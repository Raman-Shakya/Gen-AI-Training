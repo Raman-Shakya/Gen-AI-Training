{
  "cells": [
    {
      "cell_type": "markdown",
      "metadata": {
        "id": "NFyKty5gwj4T"
      },
      "source": [
        "# Text to SQL"
      ]
    },
    {
      "cell_type": "code",
      "execution_count": null,
      "metadata": {
        "id": "71g7rN7hwf1i"
      },
      "outputs": [],
      "source": [
        "import os\n",
        "os.environ[\"GOOGLE_API_KEY\"] = \"PASTE YOUR API KEY HERE\"\n",
        "GEMINI_API_KEY = \"PASTE YOUR API KEY HERE\"\n"
      ]
    },
    {
      "cell_type": "code",
      "execution_count": 2,
      "metadata": {
        "colab": {
          "base_uri": "https://localhost:8080/"
        },
        "id": "eRk-utKHxS61",
        "outputId": "e6c32c7c-4428-4e50-9a2a-7a63c56764df"
      },
      "outputs": [
        {
          "name": "stdout",
          "output_type": "stream",
          "text": [
            "Requirement already satisfied: langchain-google-genai in c:\\users\\raman\\appdata\\local\\programs\\python\\python313\\lib\\site-packages (2.1.9)\n",
            "Requirement already satisfied: filetype<2.0.0,>=1.2.0 in c:\\users\\raman\\appdata\\local\\programs\\python\\python313\\lib\\site-packages (from langchain-google-genai) (1.2.0)\n",
            "Requirement already satisfied: google-ai-generativelanguage<0.7.0,>=0.6.18 in c:\\users\\raman\\appdata\\local\\programs\\python\\python313\\lib\\site-packages (from langchain-google-genai) (0.6.18)\n",
            "Requirement already satisfied: langchain-core<0.4.0,>=0.3.68 in c:\\users\\raman\\appdata\\local\\programs\\python\\python313\\lib\\site-packages (from langchain-google-genai) (0.3.74)\n",
            "Requirement already satisfied: pydantic<3,>=2 in c:\\users\\raman\\appdata\\local\\programs\\python\\python313\\lib\\site-packages (from langchain-google-genai) (2.10.6)\n",
            "Requirement already satisfied: google-api-core!=2.0.*,!=2.1.*,!=2.10.*,!=2.2.*,!=2.3.*,!=2.4.*,!=2.5.*,!=2.6.*,!=2.7.*,!=2.8.*,!=2.9.*,<3.0.0,>=1.34.1 in c:\\users\\raman\\appdata\\local\\programs\\python\\python313\\lib\\site-packages (from google-api-core[grpc]!=2.0.*,!=2.1.*,!=2.10.*,!=2.2.*,!=2.3.*,!=2.4.*,!=2.5.*,!=2.6.*,!=2.7.*,!=2.8.*,!=2.9.*,<3.0.0,>=1.34.1->google-ai-generativelanguage<0.7.0,>=0.6.18->langchain-google-genai) (2.25.1)\n",
            "Requirement already satisfied: google-auth!=2.24.0,!=2.25.0,<3.0.0,>=2.14.1 in c:\\users\\raman\\appdata\\local\\programs\\python\\python313\\lib\\site-packages (from google-ai-generativelanguage<0.7.0,>=0.6.18->langchain-google-genai) (2.40.3)\n",
            "Requirement already satisfied: proto-plus<2.0.0,>=1.22.3 in c:\\users\\raman\\appdata\\local\\programs\\python\\python313\\lib\\site-packages (from google-ai-generativelanguage<0.7.0,>=0.6.18->langchain-google-genai) (1.26.1)\n",
            "Requirement already satisfied: protobuf!=4.21.0,!=4.21.1,!=4.21.2,!=4.21.3,!=4.21.4,!=4.21.5,<7.0.0,>=3.20.2 in c:\\users\\raman\\appdata\\local\\programs\\python\\python313\\lib\\site-packages (from google-ai-generativelanguage<0.7.0,>=0.6.18->langchain-google-genai) (6.32.0)\n",
            "Requirement already satisfied: langsmith>=0.3.45 in c:\\users\\raman\\appdata\\local\\programs\\python\\python313\\lib\\site-packages (from langchain-core<0.4.0,>=0.3.68->langchain-google-genai) (0.4.16)\n",
            "Requirement already satisfied: tenacity!=8.4.0,<10.0.0,>=8.1.0 in c:\\users\\raman\\appdata\\local\\programs\\python\\python313\\lib\\site-packages (from langchain-core<0.4.0,>=0.3.68->langchain-google-genai) (9.0.0)\n",
            "Requirement already satisfied: jsonpatch<2.0,>=1.33 in c:\\users\\raman\\appdata\\local\\programs\\python\\python313\\lib\\site-packages (from langchain-core<0.4.0,>=0.3.68->langchain-google-genai) (1.33)\n",
            "Requirement already satisfied: PyYAML>=5.3 in c:\\users\\raman\\appdata\\local\\programs\\python\\python313\\lib\\site-packages (from langchain-core<0.4.0,>=0.3.68->langchain-google-genai) (6.0.2)\n",
            "Requirement already satisfied: typing-extensions>=4.7 in c:\\users\\raman\\appdata\\local\\programs\\python\\python313\\lib\\site-packages (from langchain-core<0.4.0,>=0.3.68->langchain-google-genai) (4.14.1)\n",
            "Requirement already satisfied: packaging>=23.2 in c:\\users\\raman\\appdata\\roaming\\python\\python313\\site-packages (from langchain-core<0.4.0,>=0.3.68->langchain-google-genai) (24.2)\n",
            "Requirement already satisfied: annotated-types>=0.6.0 in c:\\users\\raman\\appdata\\local\\programs\\python\\python313\\lib\\site-packages (from pydantic<3,>=2->langchain-google-genai) (0.7.0)\n",
            "Requirement already satisfied: pydantic-core==2.27.2 in c:\\users\\raman\\appdata\\local\\programs\\python\\python313\\lib\\site-packages (from pydantic<3,>=2->langchain-google-genai) (2.27.2)\n",
            "Requirement already satisfied: googleapis-common-protos<2.0.0,>=1.56.2 in c:\\users\\raman\\appdata\\local\\programs\\python\\python313\\lib\\site-packages (from google-api-core!=2.0.*,!=2.1.*,!=2.10.*,!=2.2.*,!=2.3.*,!=2.4.*,!=2.5.*,!=2.6.*,!=2.7.*,!=2.8.*,!=2.9.*,<3.0.0,>=1.34.1->google-api-core[grpc]!=2.0.*,!=2.1.*,!=2.10.*,!=2.2.*,!=2.3.*,!=2.4.*,!=2.5.*,!=2.6.*,!=2.7.*,!=2.8.*,!=2.9.*,<3.0.0,>=1.34.1->google-ai-generativelanguage<0.7.0,>=0.6.18->langchain-google-genai) (1.70.0)\n",
            "Requirement already satisfied: requests<3.0.0,>=2.18.0 in c:\\users\\raman\\appdata\\local\\programs\\python\\python313\\lib\\site-packages (from google-api-core!=2.0.*,!=2.1.*,!=2.10.*,!=2.2.*,!=2.3.*,!=2.4.*,!=2.5.*,!=2.6.*,!=2.7.*,!=2.8.*,!=2.9.*,<3.0.0,>=1.34.1->google-api-core[grpc]!=2.0.*,!=2.1.*,!=2.10.*,!=2.2.*,!=2.3.*,!=2.4.*,!=2.5.*,!=2.6.*,!=2.7.*,!=2.8.*,!=2.9.*,<3.0.0,>=1.34.1->google-ai-generativelanguage<0.7.0,>=0.6.18->langchain-google-genai) (2.32.3)\n",
            "Requirement already satisfied: grpcio<2.0.0,>=1.33.2 in c:\\users\\raman\\appdata\\local\\programs\\python\\python313\\lib\\site-packages (from google-api-core[grpc]!=2.0.*,!=2.1.*,!=2.10.*,!=2.2.*,!=2.3.*,!=2.4.*,!=2.5.*,!=2.6.*,!=2.7.*,!=2.8.*,!=2.9.*,<3.0.0,>=1.34.1->google-ai-generativelanguage<0.7.0,>=0.6.18->langchain-google-genai) (1.74.0)\n",
            "Requirement already satisfied: grpcio-status<2.0.0,>=1.33.2 in c:\\users\\raman\\appdata\\local\\programs\\python\\python313\\lib\\site-packages (from google-api-core[grpc]!=2.0.*,!=2.1.*,!=2.10.*,!=2.2.*,!=2.3.*,!=2.4.*,!=2.5.*,!=2.6.*,!=2.7.*,!=2.8.*,!=2.9.*,<3.0.0,>=1.34.1->google-ai-generativelanguage<0.7.0,>=0.6.18->langchain-google-genai) (1.74.0)\n",
            "Requirement already satisfied: cachetools<6.0,>=2.0.0 in c:\\users\\raman\\appdata\\local\\programs\\python\\python313\\lib\\site-packages (from google-auth!=2.24.0,!=2.25.0,<3.0.0,>=2.14.1->google-ai-generativelanguage<0.7.0,>=0.6.18->langchain-google-genai) (5.5.2)\n",
            "Requirement already satisfied: pyasn1-modules>=0.2.1 in c:\\users\\raman\\appdata\\local\\programs\\python\\python313\\lib\\site-packages (from google-auth!=2.24.0,!=2.25.0,<3.0.0,>=2.14.1->google-ai-generativelanguage<0.7.0,>=0.6.18->langchain-google-genai) (0.4.2)\n",
            "Requirement already satisfied: rsa<5,>=3.1.4 in c:\\users\\raman\\appdata\\local\\programs\\python\\python313\\lib\\site-packages (from google-auth!=2.24.0,!=2.25.0,<3.0.0,>=2.14.1->google-ai-generativelanguage<0.7.0,>=0.6.18->langchain-google-genai) (4.9.1)\n",
            "Requirement already satisfied: jsonpointer>=1.9 in c:\\users\\raman\\appdata\\local\\programs\\python\\python313\\lib\\site-packages (from jsonpatch<2.0,>=1.33->langchain-core<0.4.0,>=0.3.68->langchain-google-genai) (3.0.0)\n",
            "Requirement already satisfied: httpx<1,>=0.23.0 in c:\\users\\raman\\appdata\\local\\programs\\python\\python313\\lib\\site-packages (from langsmith>=0.3.45->langchain-core<0.4.0,>=0.3.68->langchain-google-genai) (0.28.1)\n",
            "Requirement already satisfied: orjson>=3.9.14 in c:\\users\\raman\\appdata\\local\\programs\\python\\python313\\lib\\site-packages (from langsmith>=0.3.45->langchain-core<0.4.0,>=0.3.68->langchain-google-genai) (3.10.15)\n",
            "Requirement already satisfied: requests-toolbelt>=1.0.0 in c:\\users\\raman\\appdata\\local\\programs\\python\\python313\\lib\\site-packages (from langsmith>=0.3.45->langchain-core<0.4.0,>=0.3.68->langchain-google-genai) (1.0.0)\n",
            "Requirement already satisfied: zstandard>=0.23.0 in c:\\users\\raman\\appdata\\local\\programs\\python\\python313\\lib\\site-packages (from langsmith>=0.3.45->langchain-core<0.4.0,>=0.3.68->langchain-google-genai) (0.23.0)\n",
            "Requirement already satisfied: anyio in c:\\users\\raman\\appdata\\local\\programs\\python\\python313\\lib\\site-packages (from httpx<1,>=0.23.0->langsmith>=0.3.45->langchain-core<0.4.0,>=0.3.68->langchain-google-genai) (4.8.0)\n",
            "Requirement already satisfied: certifi in c:\\users\\raman\\appdata\\local\\programs\\python\\python313\\lib\\site-packages (from httpx<1,>=0.23.0->langsmith>=0.3.45->langchain-core<0.4.0,>=0.3.68->langchain-google-genai) (2025.7.14)\n",
            "Requirement already satisfied: httpcore==1.* in c:\\users\\raman\\appdata\\local\\programs\\python\\python313\\lib\\site-packages (from httpx<1,>=0.23.0->langsmith>=0.3.45->langchain-core<0.4.0,>=0.3.68->langchain-google-genai) (1.0.7)\n",
            "Requirement already satisfied: idna in c:\\users\\raman\\appdata\\local\\programs\\python\\python313\\lib\\site-packages (from httpx<1,>=0.23.0->langsmith>=0.3.45->langchain-core<0.4.0,>=0.3.68->langchain-google-genai) (3.10)\n",
            "Requirement already satisfied: h11<0.15,>=0.13 in c:\\users\\raman\\appdata\\local\\programs\\python\\python313\\lib\\site-packages (from httpcore==1.*->httpx<1,>=0.23.0->langsmith>=0.3.45->langchain-core<0.4.0,>=0.3.68->langchain-google-genai) (0.14.0)\n",
            "Requirement already satisfied: pyasn1<0.7.0,>=0.6.1 in c:\\users\\raman\\appdata\\local\\programs\\python\\python313\\lib\\site-packages (from pyasn1-modules>=0.2.1->google-auth!=2.24.0,!=2.25.0,<3.0.0,>=2.14.1->google-ai-generativelanguage<0.7.0,>=0.6.18->langchain-google-genai) (0.6.1)\n",
            "Requirement already satisfied: charset-normalizer<4,>=2 in c:\\users\\raman\\appdata\\local\\programs\\python\\python313\\lib\\site-packages (from requests<3.0.0,>=2.18.0->google-api-core!=2.0.*,!=2.1.*,!=2.10.*,!=2.2.*,!=2.3.*,!=2.4.*,!=2.5.*,!=2.6.*,!=2.7.*,!=2.8.*,!=2.9.*,<3.0.0,>=1.34.1->google-api-core[grpc]!=2.0.*,!=2.1.*,!=2.10.*,!=2.2.*,!=2.3.*,!=2.4.*,!=2.5.*,!=2.6.*,!=2.7.*,!=2.8.*,!=2.9.*,<3.0.0,>=1.34.1->google-ai-generativelanguage<0.7.0,>=0.6.18->langchain-google-genai) (3.4.1)\n",
            "Requirement already satisfied: urllib3<3,>=1.21.1 in c:\\users\\raman\\appdata\\local\\programs\\python\\python313\\lib\\site-packages (from requests<3.0.0,>=2.18.0->google-api-core!=2.0.*,!=2.1.*,!=2.10.*,!=2.2.*,!=2.3.*,!=2.4.*,!=2.5.*,!=2.6.*,!=2.7.*,!=2.8.*,!=2.9.*,<3.0.0,>=1.34.1->google-api-core[grpc]!=2.0.*,!=2.1.*,!=2.10.*,!=2.2.*,!=2.3.*,!=2.4.*,!=2.5.*,!=2.6.*,!=2.7.*,!=2.8.*,!=2.9.*,<3.0.0,>=1.34.1->google-ai-generativelanguage<0.7.0,>=0.6.18->langchain-google-genai) (2.5.0)\n",
            "Requirement already satisfied: sniffio>=1.1 in c:\\users\\raman\\appdata\\local\\programs\\python\\python313\\lib\\site-packages (from anyio->httpx<1,>=0.23.0->langsmith>=0.3.45->langchain-core<0.4.0,>=0.3.68->langchain-google-genai) (1.3.1)\n"
          ]
        },
        {
          "name": "stderr",
          "output_type": "stream",
          "text": [
            "\n",
            "[notice] A new release of pip is available: 25.0.1 -> 25.2\n",
            "[notice] To update, run: python.exe -m pip install --upgrade pip\n"
          ]
        },
        {
          "name": "stdout",
          "output_type": "stream",
          "text": [
            "Requirement already satisfied: langchain-core in c:\\users\\raman\\appdata\\local\\programs\\python\\python313\\lib\\site-packages (0.3.74)\n",
            "Requirement already satisfied: langsmith>=0.3.45 in c:\\users\\raman\\appdata\\local\\programs\\python\\python313\\lib\\site-packages (from langchain-core) (0.4.16)\n",
            "Requirement already satisfied: tenacity!=8.4.0,<10.0.0,>=8.1.0 in c:\\users\\raman\\appdata\\local\\programs\\python\\python313\\lib\\site-packages (from langchain-core) (9.0.0)\n",
            "Requirement already satisfied: jsonpatch<2.0,>=1.33 in c:\\users\\raman\\appdata\\local\\programs\\python\\python313\\lib\\site-packages (from langchain-core) (1.33)\n",
            "Requirement already satisfied: PyYAML>=5.3 in c:\\users\\raman\\appdata\\local\\programs\\python\\python313\\lib\\site-packages (from langchain-core) (6.0.2)\n",
            "Requirement already satisfied: typing-extensions>=4.7 in c:\\users\\raman\\appdata\\local\\programs\\python\\python313\\lib\\site-packages (from langchain-core) (4.14.1)\n",
            "Requirement already satisfied: packaging>=23.2 in c:\\users\\raman\\appdata\\roaming\\python\\python313\\site-packages (from langchain-core) (24.2)\n",
            "Requirement already satisfied: pydantic>=2.7.4 in c:\\users\\raman\\appdata\\local\\programs\\python\\python313\\lib\\site-packages (from langchain-core) (2.10.6)\n",
            "Requirement already satisfied: jsonpointer>=1.9 in c:\\users\\raman\\appdata\\local\\programs\\python\\python313\\lib\\site-packages (from jsonpatch<2.0,>=1.33->langchain-core) (3.0.0)\n",
            "Requirement already satisfied: httpx<1,>=0.23.0 in c:\\users\\raman\\appdata\\local\\programs\\python\\python313\\lib\\site-packages (from langsmith>=0.3.45->langchain-core) (0.28.1)\n",
            "Requirement already satisfied: orjson>=3.9.14 in c:\\users\\raman\\appdata\\local\\programs\\python\\python313\\lib\\site-packages (from langsmith>=0.3.45->langchain-core) (3.10.15)\n",
            "Requirement already satisfied: requests-toolbelt>=1.0.0 in c:\\users\\raman\\appdata\\local\\programs\\python\\python313\\lib\\site-packages (from langsmith>=0.3.45->langchain-core) (1.0.0)\n",
            "Requirement already satisfied: requests>=2.0.0 in c:\\users\\raman\\appdata\\local\\programs\\python\\python313\\lib\\site-packages (from langsmith>=0.3.45->langchain-core) (2.32.3)\n",
            "Requirement already satisfied: zstandard>=0.23.0 in c:\\users\\raman\\appdata\\local\\programs\\python\\python313\\lib\\site-packages (from langsmith>=0.3.45->langchain-core) (0.23.0)\n",
            "Requirement already satisfied: annotated-types>=0.6.0 in c:\\users\\raman\\appdata\\local\\programs\\python\\python313\\lib\\site-packages (from pydantic>=2.7.4->langchain-core) (0.7.0)\n",
            "Requirement already satisfied: pydantic-core==2.27.2 in c:\\users\\raman\\appdata\\local\\programs\\python\\python313\\lib\\site-packages (from pydantic>=2.7.4->langchain-core) (2.27.2)\n",
            "Requirement already satisfied: anyio in c:\\users\\raman\\appdata\\local\\programs\\python\\python313\\lib\\site-packages (from httpx<1,>=0.23.0->langsmith>=0.3.45->langchain-core) (4.8.0)\n",
            "Requirement already satisfied: certifi in c:\\users\\raman\\appdata\\local\\programs\\python\\python313\\lib\\site-packages (from httpx<1,>=0.23.0->langsmith>=0.3.45->langchain-core) (2025.7.14)\n",
            "Requirement already satisfied: httpcore==1.* in c:\\users\\raman\\appdata\\local\\programs\\python\\python313\\lib\\site-packages (from httpx<1,>=0.23.0->langsmith>=0.3.45->langchain-core) (1.0.7)\n",
            "Requirement already satisfied: idna in c:\\users\\raman\\appdata\\local\\programs\\python\\python313\\lib\\site-packages (from httpx<1,>=0.23.0->langsmith>=0.3.45->langchain-core) (3.10)\n",
            "Requirement already satisfied: h11<0.15,>=0.13 in c:\\users\\raman\\appdata\\local\\programs\\python\\python313\\lib\\site-packages (from httpcore==1.*->httpx<1,>=0.23.0->langsmith>=0.3.45->langchain-core) (0.14.0)\n",
            "Requirement already satisfied: charset-normalizer<4,>=2 in c:\\users\\raman\\appdata\\local\\programs\\python\\python313\\lib\\site-packages (from requests>=2.0.0->langsmith>=0.3.45->langchain-core) (3.4.1)\n",
            "Requirement already satisfied: urllib3<3,>=1.21.1 in c:\\users\\raman\\appdata\\local\\programs\\python\\python313\\lib\\site-packages (from requests>=2.0.0->langsmith>=0.3.45->langchain-core) (2.5.0)\n",
            "Requirement already satisfied: sniffio>=1.1 in c:\\users\\raman\\appdata\\local\\programs\\python\\python313\\lib\\site-packages (from anyio->httpx<1,>=0.23.0->langsmith>=0.3.45->langchain-core) (1.3.1)\n"
          ]
        },
        {
          "name": "stderr",
          "output_type": "stream",
          "text": [
            "\n",
            "[notice] A new release of pip is available: 25.0.1 -> 25.2\n",
            "[notice] To update, run: python.exe -m pip install --upgrade pip\n"
          ]
        }
      ],
      "source": [
        "! pip install langchain-google-genai\n",
        "! pip install langchain-core"
      ]
    },
    {
      "cell_type": "code",
      "execution_count": 3,
      "metadata": {
        "id": "Pn9_9ObDwnlF"
      },
      "outputs": [],
      "source": [
        "import sqlite3\n",
        "import os\n",
        "\n",
        "\n",
        "\n",
        "from langchain_google_genai import ChatGoogleGenerativeAI\n",
        "from langchain_core.messages import HumanMessage\n"
      ]
    },
    {
      "cell_type": "code",
      "execution_count": 4,
      "metadata": {
        "colab": {
          "base_uri": "https://localhost:8080/"
        },
        "id": "k8_wSusewppa",
        "outputId": "067a2be3-6a40-4cc1-99a1-a551455ddfe9"
      },
      "outputs": [
        {
          "name": "stdout",
          "output_type": "stream",
          "text": [
            "Creating departments table...\n",
            "Creating jobroles table...\n",
            "Creating employees table...\n",
            "Inserting data into departments...\n",
            "Inserting data into jobroles...\n",
            "Inserting data into employees...\n",
            "Database setup complete!\n"
          ]
        }
      ],
      "source": [
        "if os.path.exists('employee_management.db'):\n",
        "    os.remove('employee_management.db')\n",
        "\n",
        "# Create a connection\n",
        "conn = sqlite3.connect('employee_management.db')\n",
        "cursor = conn.cursor()\n",
        "\n",
        "# Table for departments\n",
        "print(\"Creating departments table...\")\n",
        "cursor.execute('''\n",
        "CREATE TABLE departments (\n",
        "    id INTEGER PRIMARY KEY AUTOINCREMENT,\n",
        "    name TEXT NOT NULL,\n",
        "    location TEXT\n",
        ")\n",
        "''')\n",
        "\n",
        "# Table for jobroles\n",
        "print(\"Creating jobroles table...\")\n",
        "cursor.execute('''\n",
        "CREATE TABLE jobroles (\n",
        "    id INTEGER PRIMARY KEY AUTOINCREMENT,\n",
        "    job_title TEXT NOT NULL,\n",
        "    min_salary REAL,\n",
        "    max_salary REAL\n",
        ")\n",
        "''')\n",
        "\n",
        "# Table for employees\n",
        "print(\"Creating employees table...\")\n",
        "cursor.execute('''\n",
        "CREATE TABLE employees (\n",
        "    id INTEGER PRIMARY KEY AUTOINCREMENT,\n",
        "    first_name TEXT NOT NULL,\n",
        "    last_name TEXT NOT NULL,\n",
        "    department_id INTEGER,\n",
        "    job_title TEXT,\n",
        "    salary REAL,\n",
        "    hire_date TEXT,\n",
        "    FOREIGN KEY(department_id) REFERENCES departments(id)\n",
        ")\n",
        "''')\n",
        "\n",
        "\n",
        "# Insert data into Department Table\n",
        "print(\"Inserting data into departments...\")\n",
        "departments_data = [\n",
        "    ('Engineering', 'New York'),\n",
        "    ('Human Resources', 'Los Angeles'),\n",
        "    ('Sales', 'Chicago')\n",
        "]\n",
        "cursor.executemany('INSERT INTO departments (name, location) VALUES (?, ?)', departments_data)\n",
        "\n",
        "# Insert data into JobRole Table\n",
        "print(\"Inserting data into jobroles...\")\n",
        "job_roles_data = [\n",
        "    ('Software Engineer', 70000, 120000),\n",
        "    ('HR Manager', 60000, 90000),\n",
        "    ('Sales Executive', 50000, 80000)\n",
        "]\n",
        "cursor.executemany('INSERT INTO jobroles (job_title, min_salary, max_salary) VALUES (?, ?, ?)', job_roles_data)\n",
        "\n",
        "# Insert data into Employee Table\n",
        "print(\"Inserting data into employees...\")\n",
        "employees_data = [\n",
        "    ('Alice', 'Smith', 1, 'Software Engineer', 85000, '2022-05-01'),\n",
        "    ('Bob', 'Brown', 2, 'HR Manager', 75000, '2021-03-15'),\n",
        "    ('Charlie', 'Davis', 3, 'Sales Executive', 65000, '2023-01-10'),\n",
        "    ('Diana', 'Miller', 1, 'Software Engineer', 95000, '2023-08-20') # Added another engineer for a better example\n",
        "]\n",
        "cursor.executemany('INSERT INTO employees (first_name, last_name, department_id, job_title, salary, hire_date) VALUES (?, ?, ?, ?, ?, ?)', employees_data)\n",
        "\n",
        "conn.commit()\n",
        "conn.close()\n",
        "\n",
        "print(\"Database setup complete!\")"
      ]
    },
    {
      "cell_type": "code",
      "execution_count": 5,
      "metadata": {
        "id": "9YGaCv2bwpnc"
      },
      "outputs": [],
      "source": [
        "try:\n",
        "    llm = ChatGoogleGenerativeAI(\n",
        "        model=\"gemini-1.5-flash\",\n",
        "        google_api_key=GEMINI_API_KEY,\n",
        "        temperature=0.3, # Lower temperature for more predictable SQL generation\n",
        "        max_tokens=500\n",
        "    )\n",
        "except Exception as e:\n",
        "    print(f\"Error initializing the language model: {e}\")\n",
        "    print(\"Please ensure you have set your GOOGLE_API_KEY correctly.\")\n",
        "    llm = None\n",
        "\n",
        "def call_gemini_with_langchain(prompt):\n",
        "    \"\"\"Generic function to call the Gemini API using LangChain.\"\"\"\n",
        "    if not llm:\n",
        "        return \"Language model is not initialized.\"\n",
        "    try:\n",
        "        # We wrap the prompt in a HumanMessage object\n",
        "        message = HumanMessage(content=prompt)\n",
        "        response = llm.invoke([message])\n",
        "        print(response.content)\n",
        "        return response.content\n",
        "    except Exception as e:\n",
        "        print(f\"Error calling Gemini API via LangChain: {e}\")\n",
        "        return None\n",
        "\n",
        "def text_to_sql(question):\n",
        "    \"\"\"Translates a natural language question into an SQL query using Gemini.\"\"\"\n",
        "    table_info = \"\"\"\n",
        "    The database contains the following tables:\n",
        "\n",
        "    1. employees table:\n",
        "    - id (INTEGER PRIMARY KEY): Employee ID\n",
        "    - first_name (TEXT): First Name\n",
        "    - last_name (TEXT): Last Name\n",
        "    - department_id (INTEGER): Foreign Key referencing departments.id\n",
        "    - job_title (TEXT): Job Position\n",
        "    - salary (REAL): Employee Salary\n",
        "    - hire_date (TEXT): Date of Hiring (format: YYYY-MM-DD)\n",
        "    \\n\n",
        "    2. departments table:\n",
        "    - id (INTEGER PRIMARY KEY): Department ID\n",
        "    - name (TEXT): Department Name\n",
        "    - location (TEXT): Department Location\n",
        "    \\n\n",
        "    3. jobroles table:\n",
        "    - id (INTEGER PRIMARY KEY): Job Role ID\n",
        "    - job_title (TEXT): Job Title\n",
        "    - min_salary (REAL): Minimum Salary for the Job\n",
        "    - max_salary (REAL): Maximum Salary for the Job\n",
        "    \"\"\"\n",
        "\n",
        "    prompt = f\"\"\"\n",
        "    You are an expert that translates natural language questions into SQL queries.\n",
        "    Based on the database schema below, translate the following question into a single, valid SQLite query.\n",
        "    Return only the SQL query itself, with no explanations, introductory text, or markdown formatting.\n",
        "\n",
        "    ---\n",
        "    SCHEMA:\n",
        "    {table_info}\n",
        "    ---\n",
        "    QUESTION: {question}\n",
        "    ---\n",
        "    SQL QUERY:\n",
        "    \"\"\"\n",
        "\n",
        "    sql_query = call_gemini_with_langchain(prompt)\n",
        "    if sql_query:\n",
        "        # Clean up the response to ensure it's just the query\n",
        "        return sql_query.strip().replace('```sql', '').replace('```', '').strip()\n",
        "    return None\n"
      ]
    },
    {
      "cell_type": "code",
      "execution_count": 6,
      "metadata": {
        "id": "bPmvFWNtwplR"
      },
      "outputs": [],
      "source": [
        "\n",
        "def run_sql_query(query):\n",
        "    \"\"\"Executes an SQL query and returns the results.\"\"\"\n",
        "    try:\n",
        "        conn = sqlite3.connect('employee_management.db')\n",
        "        cursor = conn.cursor()\n",
        "        cursor.execute(query)\n",
        "        results = cursor.fetchall()\n",
        "        columns = [description[0] for description in cursor.description] if cursor.description else []\n",
        "        conn.close()\n",
        "        return columns, results\n",
        "    except sqlite3.Error as e:\n",
        "        return None, f\"SQL Error: {e}\"\n",
        "\n",
        "def process_results_with_llm(question, columns, results):\n",
        "    \"\"\"Summarizes the SQL query results into a human-readable format using Gemini.\"\"\"\n",
        "    if results is None:\n",
        "        return \"An error occurred while executing the query.\"\n",
        "\n",
        "    if isinstance(results, str):\n",
        "        return results\n",
        "\n",
        "    if not results:\n",
        "        return \"The query returned no results.\"\n",
        "\n",
        "    formatted_results = \"\\n\".join([str(dict(zip(columns, row))) for row in results])\n",
        "\n",
        "    prompt = f\"\"\"\n",
        "    You are a helpful assistant that summarizes database query results in a user-friendly way.\n",
        "    A user asked the following question: \"{question}\"\n",
        "\n",
        "    The following results were retrieved from the database:\n",
        "    {formatted_results}\n",
        "\n",
        "    Please provide a concise and natural language summary of these results that directly answers the user's question.\n",
        "    Do not mention SQL or the database. Just present the answer.\n",
        "    \"\"\"\n",
        "\n",
        "    summary = call_gemini_with_langchain(prompt)\n",
        "    return summary if summary else \"Failed to generate a summary for the results.\"\n"
      ]
    },
    {
      "cell_type": "code",
      "execution_count": 7,
      "metadata": {
        "id": "GhnYKBbqwpja"
      },
      "outputs": [],
      "source": [
        "def final_process_sql_query(question):\n",
        "    \"\"\"The main function to orchestrate the text-to-SQL and summarization process.\"\"\"\n",
        "    if not llm:\n",
        "        return \"Cannot process question because the language model is not available.\"\n",
        "\n",
        "    print(f\"\\nProcessing question: '{question}'\")\n",
        "\n",
        "    print(\"1. Translating question to SQL...\")\n",
        "    sql_query = text_to_sql(question)\n",
        "    print(f\"   - Generated SQL query: {sql_query}\")\n",
        "\n",
        "    if not sql_query:\n",
        "        return \"Failed to generate SQL query.\"\n",
        "    print(f\"   - Generated SQL: {sql_query}\")\n",
        "\n",
        "    print(\"2. Executing SQL query...\")\n",
        "    columns, results = run_sql_query(sql_query)\n",
        "    print(f\"   - Query executed. Found {len(results) if isinstance(results, list) else 'error' } records.\")\n",
        "\n",
        "    print(\"3. Summarizing results...\")\n",
        "    final_answer = process_results_with_llm(question, columns, results)\n",
        "    print(\"   - Summary generated.\")\n",
        "    print(f\"   - Final answer: {final_answer}\")\n",
        "    return final_answer\n"
      ]
    },
    {
      "cell_type": "code",
      "execution_count": 8,
      "metadata": {
        "colab": {
          "base_uri": "https://localhost:8080/"
        },
        "id": "BbkHcIFpwpha",
        "outputId": "37202729-186c-4fc5-9b7d-bf11731231ea"
      },
      "outputs": [
        {
          "name": "stdout",
          "output_type": "stream",
          "text": [
            "\n",
            "Processing question: 'Which location's employee earns the most, and what is their salary?'\n",
            "1. Translating question to SQL...\n"
          ]
        },
        {
          "name": "stdout",
          "output_type": "stream",
          "text": [
            "SELECT T1.location, T2.salary FROM departments AS T1 INNER JOIN employees AS T2 ON T1.id = T2.department_id ORDER BY T2.salary DESC LIMIT 1\n",
            "   - Generated SQL query: SELECT T1.location, T2.salary FROM departments AS T1 INNER JOIN employees AS T2 ON T1.id = T2.department_id ORDER BY T2.salary DESC LIMIT 1\n",
            "   - Generated SQL: SELECT T1.location, T2.salary FROM departments AS T1 INNER JOIN employees AS T2 ON T1.id = T2.department_id ORDER BY T2.salary DESC LIMIT 1\n",
            "2. Executing SQL query...\n",
            "   - Query executed. Found 1 records.\n",
            "3. Summarizing results...\n",
            "The employee earning the most is located in New York, with a salary of $95,000.\n",
            "   - Summary generated.\n",
            "   - Final answer: The employee earning the most is located in New York, with a salary of $95,000.\n",
            "\n",
            "Final Result: The employee earning the most is located in New York, with a salary of $95,000.\n"
          ]
        }
      ],
      "source": [
        "question = \"Which location's employee earns the most, and what is their salary?\"\n",
        "final_result = final_process_sql_query(question)\n",
        "print(\"\\nFinal Result:\",final_result)"
      ]
    },
    {
      "cell_type": "code",
      "execution_count": 9,
      "metadata": {
        "colab": {
          "base_uri": "https://localhost:8080/",
          "height": 141
        },
        "id": "a3uMRnA4x1e7",
        "outputId": "570bc17c-d1b7-4244-960e-787c4cd99d0b"
      },
      "outputs": [
        {
          "name": "stdout",
          "output_type": "stream",
          "text": [
            "\n",
            "Final Result: The employee earning the most is located in New York, with a salary of $95,000.\n"
          ]
        }
      ],
      "source": [
        "print(\"\\nFinal Result:\",final_result)"
      ]
    },
    {
      "cell_type": "markdown",
      "metadata": {
        "id": "hsAcIcSiw56Q"
      },
      "source": [
        "### WITH Agent Executer ( Not providing the schema , direct the database) - (OPTIONAL)"
      ]
    },
    {
      "cell_type": "code",
      "execution_count": 10,
      "metadata": {
        "id": "3maxjewbw1wR"
      },
      "outputs": [
        {
          "name": "stdout",
          "output_type": "stream",
          "text": [
            "\n",
            "--- Asking Agent: 'Which location's employee earns the most, and what is their salary?' ---\n",
            "\n",
            "--- Final Answer ---\n",
            "The employee with the highest salary is located in New York, and their salary is $95000.0.\n",
            "\n"
          ]
        }
      ],
      "source": [
        "from langchain_community.utilities import SQLDatabase\n",
        "from langchain_community.agent_toolkits import create_sql_agent\n",
        "\n",
        "db_file = 'employee_management.db'\n",
        "db_uri = f\"sqlite:///{db_file}\"\n",
        "db = SQLDatabase.from_uri(db_uri, engine_args={\"connect_args\": {\"check_same_thread\": False}})\n",
        "\n",
        "\n",
        "# Create the SQL Agent\n",
        "if llm:\n",
        "    agent_executor = create_sql_agent(\n",
        "        llm=llm,\n",
        "        db=db,\n",
        "        agent_type=\"openai-tools\",\n",
        "        # verbose=True\n",
        "        verbose=False )\n",
        "else:\n",
        "    agent_executor = None\n",
        "\n",
        "\n",
        "def ask_agent(question):\n",
        "    \"\"\"Invokes the agent with a question and prints the result.\"\"\"\n",
        "    if not agent_executor:\n",
        "        print(\"Agent is not initialized. Cannot process the question.\")\n",
        "        return\n",
        "\n",
        "    print(f\"\\n--- Asking Agent: '{question}' ---\")\n",
        "    try:\n",
        "        result = agent_executor.invoke({\"input\": question})\n",
        "        print(\"\\n--- Final Answer ---\")\n",
        "        print(result['output'])\n",
        "    except Exception as e:\n",
        "        print(f\"An error occurred while running the agent: {e}\")\n",
        "\n",
        "\n",
        "# Run examples\n",
        "ask_agent(\"Which location's employee earns the most, and what is their salary?\")\n",
        "# ask_agent(\"How many people work in the Engineering department?\")\n",
        "# ask_agent(\"List all software engineers and their salaries, ordered from highest to lowest salary.\")\n",
        "\n"
      ]
    },
    {
      "cell_type": "code",
      "execution_count": null,
      "metadata": {
        "id": "73dx6aGTw1tI"
      },
      "outputs": [],
      "source": []
    },
    {
      "cell_type": "code",
      "execution_count": null,
      "metadata": {
        "id": "uWRNgbJOw1rK"
      },
      "outputs": [],
      "source": []
    }
  ],
  "metadata": {
    "colab": {
      "provenance": []
    },
    "kernelspec": {
      "display_name": "Python 3",
      "name": "python3"
    },
    "language_info": {
      "codemirror_mode": {
        "name": "ipython",
        "version": 3
      },
      "file_extension": ".py",
      "mimetype": "text/x-python",
      "name": "python",
      "nbconvert_exporter": "python",
      "pygments_lexer": "ipython3",
      "version": "3.13.0"
    }
  },
  "nbformat": 4,
  "nbformat_minor": 0
}
