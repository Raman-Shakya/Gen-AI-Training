{
 "cells": [
  {
   "cell_type": "markdown",
   "id": "bc05975d",
   "metadata": {},
   "source": [
    "# Cosine Similarity\n",
    "\n",
    "* **What it measures:** Angle between two vectors in a multi-dimensional space.\n",
    "* **Range:** -1 (opposite) to 1 (identical)\n",
    "* **Use case:** Comparing numerical feature vectors, word embeddings, or document vectors.\n",
    "* **Key idea:** Vectors pointing in the same direction are considered similar, regardless of magnitude."
   ]
  },
  {
   "cell_type": "code",
   "execution_count": 3,
   "id": "bd09714d",
   "metadata": {},
   "outputs": [
    {
     "name": "stdout",
     "output_type": "stream",
     "text": [
      "Cosine Similarity: 0.9925833339709303\n"
     ]
    }
   ],
   "source": [
    "from sklearn.metrics.pairwise import cosine_similarity\n",
    "import numpy as np\n",
    "\n",
    "# Example vectors\n",
    "vec1 = np.array([1, 2, 3]).reshape(1, -1)\n",
    "vec2 = np.array([2, 3, 4]).reshape(1, -1)\n",
    "\n",
    "similarity = cosine_similarity(vec1, vec2)[0][0]\n",
    "print(\"Cosine Similarity:\", similarity)\n"
   ]
  },
  {
   "cell_type": "markdown",
   "id": "a9a34f69",
   "metadata": {},
   "source": [
    "# Jaccard Similarity\n",
    "\n",
    "* **What it measures:** Overlap between two sets.\n",
    "* **Range:** 0 (no overlap) to 1 (identical sets)\n",
    "* **Use case:** Comparing sets of words, tags, or features.\n",
    "* **Key idea:** Similarity = size of intersection ÷ size of union."
   ]
  },
  {
   "cell_type": "code",
   "execution_count": null,
   "id": "525a49e3",
   "metadata": {},
   "outputs": [],
   "source": [
    "def jaccard_similarity(set1, set2):\n",
    "    intersection = len(set1.intersection(set2))\n",
    "    union = len(set1.union(set2))\n",
    "    return intersection / union\n",
    "\n",
    "s1 = {\"apple\", \"banana\", \"mango\"}\n",
    "s2 = {\"banana\", \"mango\", \"orange\"}\n",
    "\n",
    "print(\"Jaccard Similarity:\", jaccard_similarity(s1, s2))\n"
   ]
  },
  {
   "cell_type": "markdown",
   "id": "651dfd10",
   "metadata": {},
   "source": [
    "# Levenshtein (Edit) Similarity\n",
    "\n",
    "* **What it measures:** How many single-character edits (insertions, deletions, substitutions) are needed to transform one string into another.\n",
    "* **Range:** 0 (completely different) to 1 (identical)\n",
    "* **Use case:** Spell checking, fuzzy string matching, DNA sequence comparison.\n",
    "* **Key idea:** Fewer edits → more similar strings."
   ]
  },
  {
   "cell_type": "code",
   "execution_count": 6,
   "id": "d38a53bf",
   "metadata": {},
   "outputs": [
    {
     "name": "stdout",
     "output_type": "stream",
     "text": [
      "Requirement already satisfied: levenshtein in c:\\users\\raman\\appdata\\local\\programs\\python\\python313\\lib\\site-packages (0.27.1)\n",
      "Requirement already satisfied: rapidfuzz<4.0.0,>=3.9.0 in c:\\users\\raman\\appdata\\local\\programs\\python\\python313\\lib\\site-packages (from levenshtein) (3.14.0)\n"
     ]
    },
    {
     "name": "stderr",
     "output_type": "stream",
     "text": [
      "\n",
      "[notice] A new release of pip is available: 25.0.1 -> 25.2\n",
      "[notice] To update, run: python.exe -m pip install --upgrade pip\n"
     ]
    }
   ],
   "source": [
    "!pip install levenshtein"
   ]
  },
  {
   "cell_type": "code",
   "execution_count": 7,
   "id": "39c4478d",
   "metadata": {},
   "outputs": [
    {
     "name": "stdout",
     "output_type": "stream",
     "text": [
      "Levenshtein Similarity: 0.5714285714285714\n"
     ]
    }
   ],
   "source": [
    "import Levenshtein\n",
    "\n",
    "s1 = \"kitten\"\n",
    "s2 = \"sitting\"\n",
    "\n",
    "similarity = 1 - (Levenshtein.distance(s1, s2) / max(len(s1), len(s2)))\n",
    "print(\"Levenshtein Similarity:\", similarity)\n"
   ]
  },
  {
   "cell_type": "markdown",
   "id": "4a3c2910",
   "metadata": {},
   "source": [
    "# TF-IDF with Cosine Similarity\n",
    "\n",
    "* **What it measures:** Cosine similarity after converting text into weighted term vectors (TF-IDF).\n",
    "* **Range:** 0 (no similarity) to 1 (identical)\n",
    "* **Use case:** Comparing sentences, documents, or paragraphs in NLP.\n",
    "* **Key idea:** Words common across documents get lower weight; unique words matter more."
   ]
  },
  {
   "cell_type": "code",
   "execution_count": 2,
   "id": "55ec304a",
   "metadata": {},
   "outputs": [
    {
     "name": "stdout",
     "output_type": "stream",
     "text": [
      "Similarity with other docs: [1.         0.61195311 0.        ]\n"
     ]
    }
   ],
   "source": [
    "from sklearn.feature_extraction.text import TfidfVectorizer\n",
    "from sklearn.metrics.pairwise import cosine_similarity\n",
    "\n",
    "docs = [\n",
    "    \"I love machine learning and AI\",\n",
    "    \"AI and machine learning are amazing\",\n",
    "    \"Python is great for data science\"\n",
    "]\n",
    "\n",
    "vectorizer = TfidfVectorizer()\n",
    "tfidf_matrix = vectorizer.fit_transform(docs)\n",
    "\n",
    "# Compare doc[0] with doc[1] and doc[2]\n",
    "similarities = cosine_similarity(tfidf_matrix[0:1], tfidf_matrix)\n",
    "print(\"Similarity with other docs:\", similarities[0])\n"
   ]
  }
 ],
 "metadata": {
  "kernelspec": {
   "display_name": "Python 3",
   "language": "python",
   "name": "python3"
  },
  "language_info": {
   "codemirror_mode": {
    "name": "ipython",
    "version": 3
   },
   "file_extension": ".py",
   "mimetype": "text/x-python",
   "name": "python",
   "nbconvert_exporter": "python",
   "pygments_lexer": "ipython3",
   "version": "3.13.0"
  }
 },
 "nbformat": 4,
 "nbformat_minor": 5
}
