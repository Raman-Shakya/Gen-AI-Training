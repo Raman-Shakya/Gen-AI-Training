{
 "cells": [
  {
   "cell_type": "code",
   "execution_count": 1,
   "id": "dd4e86f1",
   "metadata": {},
   "outputs": [],
   "source": [
    "import requests\n",
    "import json"
   ]
  },
  {
   "cell_type": "code",
   "execution_count": 2,
   "id": "b5971b2e",
   "metadata": {},
   "outputs": [],
   "source": [
    "def execute(query):\n",
    "  try:\n",
    "    response = requests.post('http://localhost:11434/api/generate', data = json.dumps({\n",
    "      \"model\": \"llama3.2\",\n",
    "      \"prompt\": query,\n",
    "      \"stream\": False\n",
    "    }), headers={\n",
    "      \"Content_Type\": \"application/json\"\n",
    "    })\n",
    "    response.raise_for_status()\n",
    "    return response.json()['response']\n",
    "  except Exception as e:\n",
    "    return f\"Sth went wrong: {e}\""
   ]
  },
  {
   "cell_type": "code",
   "execution_count": 3,
   "id": "eb1a50be",
   "metadata": {},
   "outputs": [
    {
     "name": "stdout",
     "output_type": "stream",
     "text": [
      "Heyy back at ya! How's your day going so far?\n",
      "BYD (Build Your Dreams) is a Chinese multinational new energy vehicle company. Here are some key facts about BYD:\n",
      "\n",
      "1. **Founded in 1995**: BYD was founded by Wang Chuanfu, and its name \"Build Your Dreams\" reflects the company's mission to empower people's dreams for a better future.\n",
      "2. **Electric vehicles (EVs)**: BYD is one of the largest EV manufacturers in the world, with a range of models including battery electric buses, taxis, trucks, and cars.\n",
      "3. **Battery technology**: BYD is known for its advanced lithium-ion battery technology, which powers many of its EVs. The company has developed proprietary battery management systems (BMS) that optimize energy density, range, and charging speed.\n",
      "4. **Solar panel business**: BYD also has a significant solar panel business, providing high-efficiency solar panels for residential and commercial applications.\n",
      "5. **Investments in renewable energy**: BYD has invested heavily in renewable energy projects, including wind farms, hydroelectric power plants, and geothermal energy projects.\n",
      "\n",
      "Some of the popular BYD models include:\n",
      "\n",
      "1. **BYD Tang**: A compact electric car with a range of up to 320 miles (515 km).\n",
      "2. **BYD Yuan**: A budget-friendly electric car with a range of up to 200 miles (322 km).\n",
      "3. **BYD K9**: An electric bus designed for urban transportation.\n",
      "\n",
      "BYD has established partnerships with various companies, including:\n",
      "\n",
      "1. **Tesla**: BYD partnered with Tesla to develop a new battery technology.\n",
      "2. **BMW**: BYD collaborated with BMW on electrification projects.\n",
      "3. **General Motors**: BYD partnered with General Motors to develop autonomous vehicle technology.\n",
      "\n",
      "What would you like to know more about regarding BYD?\n"
     ]
    }
   ],
   "source": [
    "# execute(\"hello wrold!\")\n",
    "while True:\n",
    "  qns = input(\"Enter any question:\")\n",
    "  if qns == 'bye':\n",
    "    break\n",
    "  print(execute(qns))"
   ]
  },
  {
   "cell_type": "code",
   "execution_count": 4,
   "id": "10a6867d",
   "metadata": {},
   "outputs": [],
   "source": [
    "# !pip install googlesearch-python\n",
    "# !pip install beautifulsoup4"
   ]
  },
  {
   "cell_type": "code",
   "execution_count": 7,
   "id": "cbd250a2",
   "metadata": {},
   "outputs": [
    {
     "name": "stdout",
     "output_type": "stream",
     "text": [
      "fetching from: https://en.wikipedia.org/wiki/World_War_III\n",
      "fetching from: https://simple.wikipedia.org/wiki/World_War_III\n"
     ]
    }
   ],
   "source": [
    "from googlesearch import search\n",
    "import requests\n",
    "import json\n",
    "from bs4 import BeautifulSoup\n",
    "import re\n",
    "\n",
    "results = search(\"world war 3 - wikipedia\", num_results=2, unique=True)\n",
    "content = ''\n",
    "for url in results:\n",
    "    print(\"fetching from:\", url)\n",
    "    response = requests.get(url)\n",
    "    soup = BeautifulSoup(response.text, \"html.parser\")\n",
    "    \n",
    "    # Extract all <p> tags\n",
    "    paragraphs = [p.get_text() for p in soup.find_all(\"p, article, h1, h2\")]\n",
    "    \n",
    "    # Join them into one string with newlines\n",
    "    text = \"\\n\".join(paragraphs)\n",
    "    \n",
    "    # Clean multiple newlines\n",
    "    text = re.sub(r'\\n+', '\\n', text)\n",
    "    \n",
    "    content += \"\\n\" + text\n",
    "\n",
    "with open('rawContent.txt', 'w', encoding='utf-8') as fp:\n",
    "  fp.write(content)\n"
   ]
  },
  {
   "cell_type": "code",
   "execution_count": 8,
   "id": "9b9c3fb6",
   "metadata": {},
   "outputs": [],
   "source": [
    "final_content = \"Extract only the relevant content text, it may contain script tags, remove all and extract informations about World War 3 only, as a first step: remove lal the html tags and get the man tetual content from\" + content\n",
    "processed_text = execute(final_content)\n",
    "\n",
    "with open('content.md', 'w', encoding='utf-8') as fp:\n",
    "  fp.write(processed_text)"
   ]
  }
 ],
 "metadata": {
  "kernelspec": {
   "display_name": "Python 3",
   "language": "python",
   "name": "python3"
  },
  "language_info": {
   "codemirror_mode": {
    "name": "ipython",
    "version": 3
   },
   "file_extension": ".py",
   "mimetype": "text/x-python",
   "name": "python",
   "nbconvert_exporter": "python",
   "pygments_lexer": "ipython3",
   "version": "3.13.0"
  }
 },
 "nbformat": 4,
 "nbformat_minor": 5
}
