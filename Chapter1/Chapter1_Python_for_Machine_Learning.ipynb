{
  "cells": [
    {
      "cell_type": "markdown",
      "id": "6lzBmGv5QqfA",
      "metadata": {
        "id": "6lzBmGv5QqfA"
      },
      "source": [
        "# Python For Machine Learning\n"
      ]
    },
    {
      "cell_type": "markdown",
      "id": "rw6bksUxse9G",
      "metadata": {
        "id": "rw6bksUxse9G"
      },
      "source": [
        "Python is widely used in machine learning because it offers powerful libraries and tools for data handling, model training, and evaluation. It makes building ML models easier and faster.\n",
        "\n",
        "#### Key Python Basics to Learn\n",
        "\n",
        "1. **Data Structures** – Lists, dictionaries, tuples, sets for organizing data.\n",
        "2. **Control Flow** – `if/else`, `for`, `while` loops to add logic to code.\n",
        "3. **Functions** – For reusable, modular code.\n",
        "4. **OOP Basics** – Understanding classes and objects (many ML tools use OOP).\n",
        "5. **Libraries** – How to import and use libraries like `NumPy` and `pandas`.\n",
        "6. **File I/O** – Reading/writing data files like CSV.\n",
        "7. **Error Handling** – Using `try...except` to manage runtime errors.\n",
        "\n",
        "#### Essential Libraries\n",
        "\n",
        "- **NumPy** – For numerical operations with arrays and matrices.\n",
        "- **Pandas** – For data cleaning, analysis, and working with DataFrames.\n"
      ]
    },
    {
      "cell_type": "markdown",
      "id": "3bSbL_9uQqfF",
      "metadata": {
        "id": "3bSbL_9uQqfF"
      },
      "source": [
        "### Python Syntax\n",
        "Syntax refers to the set of rules that define how Python code is written and interpreted.\n"
      ]
    },
    {
      "cell_type": "code",
      "execution_count": 1,
      "id": "SQl04xFLtT6t",
      "metadata": {
        "colab": {
          "base_uri": "https://localhost:8080/"
        },
        "id": "SQl04xFLtT6t",
        "outputId": "1174809a-8a0e-415b-fd1d-9c99c7a08263"
      },
      "outputs": [
        {
          "name": "stdout",
          "output_type": "stream",
          "text": [
            "2 is even\n",
            "4 is even\n",
            "6 is even\n"
          ]
        }
      ],
      "source": [
        "# print even number within <=6\n",
        "numbers = [1, 2, 3,4, 5, 6]\n",
        "\n",
        "for number in numbers:\n",
        "    if number % 2 == 0:\n",
        "        print(f\"{number} is even\")\n"
      ]
    },
    {
      "cell_type": "code",
      "execution_count": 2,
      "id": "i8-V8m5rwhDr",
      "metadata": {
        "colab": {
          "base_uri": "https://localhost:8080/"
        },
        "id": "i8-V8m5rwhDr",
        "outputId": "3abc8b70-e6a8-4d91-de97-5b73d76ebea6"
      },
      "outputs": [
        {
          "name": "stdout",
          "output_type": "stream",
          "text": [
            "Hi, My name is . I am  years old.\n"
          ]
        }
      ],
      "source": [
        "### take input from user\n",
        "\n",
        "name = input(\"What is your name?\")\n",
        "age = input(\"What is your age?\")\n",
        "print(f\"Hi, My name is {name}. I am {age} years old.\")"
      ]
    },
    {
      "cell_type": "markdown",
      "id": "8cxwvg17vY42",
      "metadata": {
        "id": "8cxwvg17vY42"
      },
      "source": [
        "### Python Keywords\n",
        "\n",
        "Keywords are reserved words in Python that have special meaning and cannot be used as variable names. Examples include `if, for, class, def, return,` etc."
      ]
    },
    {
      "cell_type": "code",
      "execution_count": 3,
      "id": "zj0XJapWvftj",
      "metadata": {
        "colab": {
          "base_uri": "https://localhost:8080/"
        },
        "id": "zj0XJapWvftj",
        "outputId": "01e8c61c-745d-45d0-a684-e44921e1e789"
      },
      "outputs": [
        {
          "name": "stdout",
          "output_type": "stream",
          "text": [
            "This is a keyword example.\n"
          ]
        }
      ],
      "source": [
        "if True:\n",
        "    print(\"This is a keyword example.\")"
      ]
    },
    {
      "cell_type": "markdown",
      "id": "qJdspfr6Tot1",
      "metadata": {
        "id": "qJdspfr6Tot1"
      },
      "source": [
        "### Variables\n",
        "Variables are used to store data. Python is dynamically typed, so we don’t need to declare the variable type.\n",
        "Naming the variable is always important.\n",
        "Do you know why ?"
      ]
    },
    {
      "cell_type": "code",
      "execution_count": 4,
      "id": "zHpTRsdERNBu",
      "metadata": {
        "colab": {
          "base_uri": "https://localhost:8080/"
        },
        "id": "zHpTRsdERNBu",
        "outputId": "bfd147a5-fc38-4351-c91e-8fe11e5f0081"
      },
      "outputs": [
        {
          "name": "stdout",
          "output_type": "stream",
          "text": [
            "Generative AI2021\n"
          ]
        }
      ],
      "source": [
        "first_name = \"Generative\"\n",
        "last_name = \"AI\"\n",
        "year= 2021\n",
        "full_name = first_name + \" \" + last_name + str(year)\n",
        "print(full_name)"
      ]
    },
    {
      "cell_type": "code",
      "execution_count": 5,
      "id": "5zqGz6Z3xwpo",
      "metadata": {
        "colab": {
          "base_uri": "https://localhost:8080/"
        },
        "id": "5zqGz6Z3xwpo",
        "outputId": "f231cd1d-055b-49ed-c881-9b6b3640b632"
      },
      "outputs": [
        {
          "name": "stdout",
          "output_type": "stream",
          "text": [
            "Total price is 150.60000000000002 \n",
            "Total price is 150.60 \n"
          ]
        }
      ],
      "source": [
        "qty = 12\n",
        "price = 12.55\n",
        "\n",
        "print(f\"Total price is {qty*price} \")\n",
        "print(f\"Total price is {(qty*price):.2f} \")"
      ]
    },
    {
      "cell_type": "markdown",
      "id": "qbLPiLEk0bNm",
      "metadata": {
        "id": "qbLPiLEk0bNm"
      },
      "source": [
        "#### TASK1: Create variables to store your name, age, and list of skills."
      ]
    },
    {
      "cell_type": "code",
      "execution_count": 6,
      "id": "wG2STqWZ3ofk",
      "metadata": {
        "id": "wG2STqWZ3ofk"
      },
      "outputs": [],
      "source": [
        "name = \"Raman Shakya\"\n",
        "age = 21\n",
        "skills = [\"Python\", \"Web Development\", \"React\", \"Android Development\"]"
      ]
    },
    {
      "cell_type": "markdown",
      "id": "L6IVN8ERThh5",
      "metadata": {
        "id": "L6IVN8ERThh5"
      },
      "source": [
        "### Data Types\n",
        "\n",
        "* **int**: Integer type for whole numbers (e.g., `10`).\n",
        "* **float**: Floating-point type for decimal numbers (e.g., `3.14`).\n",
        "* **str**: String type for sequences of characters (e.g., `\"Hello\"`).\n",
        "* **bool**: Boolean type representing `True` or `False`.\n",
        "* **NoneType**: Represents the absence of a value (`None`).\n"
      ]
    },
    {
      "cell_type": "code",
      "execution_count": 7,
      "id": "nnr4Jlq-Q1pM",
      "metadata": {
        "colab": {
          "base_uri": "https://localhost:8080/"
        },
        "id": "nnr4Jlq-Q1pM",
        "outputId": "1178d0e7-0ffe-4b50-c695-3d1ace5ce22f"
      },
      "outputs": [
        {
          "name": "stdout",
          "output_type": "stream",
          "text": [
            "<class 'int'>\n",
            "<class 'float'>\n",
            "<class 'str'>\n",
            "<class 'bool'>\n",
            "<class 'NoneType'>\n",
            "<class 'list'>\n",
            "<class 'tuple'>\n",
            "<class 'set'>\n",
            "<class 'dict'>\n"
          ]
        }
      ],
      "source": [
        "# Integer\n",
        "number = 100\n",
        "print(type(number))\n",
        "\n",
        "# Float\n",
        "pi_value = 3.14159\n",
        "print(type(pi_value))\n",
        "\n",
        "# String\n",
        "greeting = \"Good Morning!\"\n",
        "print(type(greeting))\n",
        "\n",
        "# Boolean\n",
        "is_active = False\n",
        "print(type(is_active))\n",
        "\n",
        "# NoneType\n",
        "value = None\n",
        "print(type(value))\n",
        "\n",
        "# Data structure with data types\n",
        "\n",
        "# List\n",
        "my_list = [1, \"apple\", 3.14, True]\n",
        "print(type(my_list))\n",
        "\n",
        "# Tuple\n",
        "my_tuple = (3, \"mango\", 1.64, True)\n",
        "print(type(my_tuple))\n",
        "\n",
        "# Set\n",
        "my_set = {1,3,5,7,9}\n",
        "print(type(my_set))\n",
        "\n",
        "# dict\n",
        "my_dictionary = {\"name\":\"Ram\",\"age\":\"24\"}\n",
        "print(type(my_dictionary))\n"
      ]
    },
    {
      "cell_type": "markdown",
      "id": "hOaz0o_zTdMA",
      "metadata": {
        "id": "hOaz0o_zTdMA"
      },
      "source": [
        "### Operators\n",
        "An operator is a symbol that performs a specific operation on one or more values or variables."
      ]
    },
    {
      "cell_type": "code",
      "execution_count": 8,
      "id": "-y9pWPnKRXQJ",
      "metadata": {
        "colab": {
          "base_uri": "https://localhost:8080/"
        },
        "id": "-y9pWPnKRXQJ",
        "outputId": "175fe894-1bb1-4d3f-9b47-4b0a9b44b449"
      },
      "outputs": [
        {
          "name": "stdout",
          "output_type": "stream",
          "text": [
            "Sum result: 8\n",
            "Is 10 greater than 5? : True\n",
            "Both True AND False: False\n",
            "Value of x after *= 2: 10\n",
            "list1 is list2: False\n"
          ]
        }
      ],
      "source": [
        "# Arithmetic Operator (Addition)\n",
        "sum_result = 5 + 3\n",
        "\n",
        "# Comparison Operator (Greater Than | Less Than)\n",
        "is_greater = 10 > 5\n",
        "\n",
        "# Logical Operator (AND)\n",
        "both_true = True and False\n",
        "\n",
        "# Assignment Operator (Multiplication and Assignment)\n",
        "x = 5\n",
        "x *= 2\n",
        "\n",
        "# Identity Operator (is)\n",
        "list1 = [1, 2]\n",
        "list2 = [1, 2]\n",
        "is_same_object = list1 is list2\n",
        "\n",
        "\n",
        "print(\"Sum result:\", sum_result)\n",
        "print(\"Is 10 greater than 5? :\", is_greater)\n",
        "print(\"Both True AND False:\", both_true)\n",
        "print(\"Value of x after *= 2:\", x)\n",
        "print(\"list1 is list2:\", is_same_object)\n"
      ]
    },
    {
      "cell_type": "markdown",
      "id": "-l_EoWPg0sGH",
      "metadata": {
        "id": "-l_EoWPg0sGH"
      },
      "source": [
        "#### TASK2: Create a program that checks if a student has passed a test and gives feedback."
      ]
    },
    {
      "cell_type": "code",
      "execution_count": 10,
      "id": "bvFaj5LcXq2b",
      "metadata": {
        "colab": {
          "base_uri": "https://localhost:8080/"
        },
        "id": "bvFaj5LcXq2b",
        "outputId": "091c48aa-a679-404f-a770-1534245e19be"
      },
      "outputs": [
        {
          "name": "stdout",
          "output_type": "stream",
          "text": [
            "You have failed the test\n"
          ]
        }
      ],
      "source": [
        "your_marks = int(input(\"Enter your marks\"))\n",
        "if  your_marks > 40:\n",
        "    print(\"You have passed the test\")\n",
        "else:\n",
        "    print(\"You have failed the test\")"
      ]
    },
    {
      "cell_type": "code",
      "execution_count": 12,
      "id": "YtvmhkBQX3Vx",
      "metadata": {
        "colab": {
          "base_uri": "https://localhost:8080/"
        },
        "id": "YtvmhkBQX3Vx",
        "outputId": "a3b2ea33-e1e4-4148-9658-6897560889c0"
      },
      "outputs": [
        {
          "data": {
            "text/plain": [
              "[43, 54, 40, 41]"
            ]
          },
          "execution_count": 12,
          "metadata": {},
          "output_type": "execute_result"
        }
      ],
      "source": [
        "marks = [23,43,54,40,39,41]\n",
        "\n",
        "pass_or_fail = [each for each in marks if each>=40 ]\n",
        "pass_or_fail\n"
      ]
    },
    {
      "cell_type": "markdown",
      "id": "WAIaY9MxTX35",
      "metadata": {
        "id": "WAIaY9MxTX35"
      },
      "source": [
        "### Data Structures (Lists, Tuples, Sets, Dictionaries)\n",
        "\n",
        "* **list**: Ordered, mutable collection (e.g., `[1, 2, 3]`).\n",
        "* **tuple**: Ordered, immutable collection (e.g., `(1, 2, 3)`).\n",
        "* **dict**: Unordered collection of key-value pairs (e.g., `{\"a\": 1}`).\n",
        "* **set**: Unordered collection of unique items (e.g., `{1, 2, 3}`)."
      ]
    },
    {
      "cell_type": "code",
      "execution_count": null,
      "id": "WuOTkrueRkcg",
      "metadata": {
        "colab": {
          "base_uri": "https://localhost:8080/"
        },
        "id": "WuOTkrueRkcg",
        "outputId": "5660bbf9-9188-4a37-e78d-237059c15055"
      },
      "outputs": [
        {
          "name": "stdout",
          "output_type": "stream",
          "text": [
            "milk\n",
            "20.0\n",
            "{1, 2, 3, 4}\n",
            "{1, 2, 3, 4, 5}\n",
            "Alice\n",
            "{'name': 'Alice', 'age': 31, 'city': 'New York'}\n"
          ]
        }
      ],
      "source": [
        "# List (mutable, ordered)\n",
        "my_shopping_list = [\"milk\", \"bread\", \"eggs\"]\n",
        "my_shopping_list.append(\"cheese\")\n",
        "print(my_shopping_list[0])\n",
        "\n",
        "# Tuple (immutable, ordered)\n",
        "coordinates = (10.0, 20.0)\n",
        "# coordinates[0] = 12.0 # This would raise an error\n",
        "print(coordinates[1])\n",
        "\n",
        "# Set (mutable, unordered, unique elements)\n",
        "my_set = {1, 2, 2, 3, 4, 4}\n",
        "print(my_set)\n",
        "my_set.add(5)\n",
        "print(my_set)\n",
        "\n",
        "# Dictionary (mutable, key-value pairs)\n",
        "person = {\"name\": \"Alice\", \"age\": 30, \"city\": \"New York\"}\n",
        "print(person[\"name\"])\n",
        "person[\"age\"] = 31 # changing the vlaue\n",
        "print(person)\n"
      ]
    },
    {
      "cell_type": "code",
      "execution_count": null,
      "id": "tZjkkh_R1IjB",
      "metadata": {
        "colab": {
          "base_uri": "https://localhost:8080/"
        },
        "id": "tZjkkh_R1IjB",
        "outputId": "e92404b2-00a6-425b-c3c1-937a17628699"
      },
      "outputs": [
        {
          "name": "stdout",
          "output_type": "stream",
          "text": [
            "Bob\n"
          ]
        }
      ],
      "source": [
        "# Nested data structure (List of dictionaries)\n",
        "students = [\n",
        "    {\"name\": \"Bob\", \"id\": \"s001\"},\n",
        "    {\"name\": \"Charlie\", \"id\": \"s002\"}\n",
        "]\n",
        "print(students[0][\"name\"])"
      ]
    },
    {
      "cell_type": "markdown",
      "id": "SdufM7ZeTTiH",
      "metadata": {
        "id": "SdufM7ZeTTiH"
      },
      "source": [
        "### Control Flow (if, for, while)\n",
        "Control flow in Python refers to the order in which individual statements, instructions, or function calls are executed or evaluated. It includes decision-making (`if`, `elif`, `else`), loops (`for`, `while`), and control statements (`break`, `continue`, `pass`) that determine how the program proceeds.\n"
      ]
    },
    {
      "cell_type": "code",
      "execution_count": null,
      "id": "6-IaZrj8RhXZ",
      "metadata": {
        "colab": {
          "base_uri": "https://localhost:8080/"
        },
        "id": "6-IaZrj8RhXZ",
        "outputId": "30746f8c-c9f9-465e-deb9-a4c9dd88ea2b"
      },
      "outputs": [
        {
          "name": "stdout",
          "output_type": "stream",
          "text": [
            "It's warm.\n",
            "apple\n",
            "banana\n",
            "cherry\n",
            "0\n",
            "1\n",
            "2\n",
            "3\n",
            "4\n",
            "0\n",
            "1\n",
            "2\n",
            "1\n",
            "2\n"
          ]
        }
      ],
      "source": [
        "# If statement\n",
        "temperature = 25\n",
        "if temperature > 30:\n",
        "    print(\"It's hot!\")\n",
        "elif temperature > 20:\n",
        "    print(\"It's warm.\")\n",
        "else:\n",
        "    print(\"It's cool.\")\n",
        "\n",
        "# For loop (iterating over a list)\n",
        "fruits = [\"apple\", \"banana\", \"cherry\"]\n",
        "for fruit in fruits:\n",
        "    print(fruit)\n",
        "\n",
        "# While loop\n",
        "count = 0\n",
        "while count < 5:\n",
        "    print(count)\n",
        "    count += 1\n",
        "\n",
        "# For loop with range\n",
        "for i in range(3):\n",
        "    print(i)\n",
        "\n",
        "# Break in a loop\n",
        "numbers = [1, 2, 3, 4, 5]\n",
        "for num in numbers:\n",
        "    if num == 3:\n",
        "        break\n",
        "    print(num)\n",
        "\n"
      ]
    },
    {
      "cell_type": "markdown",
      "id": "S_M0xDtH00vL",
      "metadata": {
        "id": "S_M0xDtH00vL"
      },
      "source": [
        "#### TASK3 :Write a program to:\n",
        "- Take input: Scores of 10 students or just create a your own list.\n",
        "- Add 5 bonus points to every score below 50.\n",
        "- Print each score with a label: \"Pass\" if 50 or above, else \"Fail\".\n",
        "- Finally, print the updated list of scores."
      ]
    },
    {
      "cell_type": "code",
      "execution_count": null,
      "id": "FbwXXmsR3qj1",
      "metadata": {
        "colab": {
          "base_uri": "https://localhost:8080/"
        },
        "id": "FbwXXmsR3qj1",
        "outputId": "6c8fa24d-c5f8-46aa-eab5-aaef3cbd8367"
      },
      "outputs": [
        {
          "name": "stdout",
          "output_type": "stream",
          "text": [
            "Fail 22\n",
            "Fail 19\n",
            "Pass 53\n",
            "Pass 61\n",
            "Pass 56\n",
            "Fail 35\n",
            "Pass 98\n",
            "Pass 99\n",
            "Fail 29\n",
            "Pass 62\n",
            "[22, 19, 53, 61, 56, 35, 98, 99, 29, 62]\n"
          ]
        }
      ],
      "source": [
        "import random\n",
        "score = [random.randint(0, 100) for i in range(10)]\n",
        "# for i in range(3):\n",
        "#     score.append(int(input(f\"Enter score for student {i+1}: \")))\n",
        "updated_score = [each+5 if each < 50 else each for each in score]\n",
        "\n",
        "print(*[f\"Pass {score}\" if score >= 50 else f\"Fail {score}\" for score in updated_score], sep='\\n')\n",
        "\n",
        "print(updated_score)\n",
        "## need more update"
      ]
    },
    {
      "cell_type": "markdown",
      "id": "LiUKqHssQqfK",
      "metadata": {
        "id": "LiUKqHssQqfK"
      },
      "source": [
        "## Functions\n",
        "Functions are reusable blocks of code that perform specific tasks. They help organize code and reduce repetition. Functions can accept inputs (called parameters) and may return outputs, and they are a fundamental concept in almost all programming languages.\n",
        "- Defining and calling functions\n",
        "- Arguments and return values\n",
        "- Lambda functions"
      ]
    },
    {
      "cell_type": "markdown",
      "id": "ihHS6NR1TKzk",
      "metadata": {
        "id": "ihHS6NR1TKzk"
      },
      "source": [
        "### Defining and calling functions\n"
      ]
    },
    {
      "cell_type": "code",
      "execution_count": null,
      "id": "4J5CoVoWRyVr",
      "metadata": {
        "id": "4J5CoVoWRyVr"
      },
      "outputs": [],
      "source": [
        "# Simple function with no arguments or return value\n",
        "def greet():\n",
        "  print(\"Hello!\")\n",
        "\n",
        "greet()\n",
        "\n",
        "# Function with one argument\n",
        "def say_hello(name):\n",
        "  print(f\"Hello, {name}!\")\n",
        "\n",
        "say_hello(\"Alice\")\n",
        "\n",
        "# Function with a default argument\n",
        "def greeting(name=\"Guest\"):\n",
        "  print(f\"Welcome, {name}!\")\n",
        "\n",
        "greeting()\n",
        "greeting(\"Bob\") # Overrides the default argument\n",
        "\n",
        "# Function with multiple arguments\n",
        "def add_numbers(x, y):\n",
        "  print(f\"The sum of {x} and {y} is {x + y}\")\n",
        "\n",
        "add_numbers(5, 10)\n",
        "\n",
        "# Calling a function inside another function\n",
        "def process_data(data):\n",
        "  print(\"Processing data...\")\n",
        "  # processs\n",
        "  print(f\"Data: {data}\")\n",
        "\n",
        "def analyze_data(dataset):\n",
        "  print(\"Analyzing data...\")\n",
        "  # analysis\n",
        "  process_data(dataset)\n",
        "\n",
        "analyze_data([1, 2, 3, 4, 5])\n"
      ]
    },
    {
      "cell_type": "markdown",
      "id": "KrteXeaYTHcG",
      "metadata": {
        "id": "KrteXeaYTHcG"
      },
      "source": [
        "### Arguments and return values\n"
      ]
    },
    {
      "cell_type": "code",
      "execution_count": null,
      "id": "Hi2ZrzNiSwI5",
      "metadata": {
        "id": "Hi2ZrzNiSwI5"
      },
      "outputs": [],
      "source": [
        "# Function that returns a value\n",
        "def multiply(x, y):\n",
        "  result = x * y\n",
        "  return result\n",
        "\n",
        "product = multiply(4, 6)\n",
        "print(f\"The product is: {product}\")\n",
        "\n",
        "# Function that returns multiple values (as a tuple)\n",
        "def get_min_max(numbers):\n",
        "  minimum = min(numbers)\n",
        "  maximum = max(numbers)\n",
        "  return minimum, maximum\n",
        "\n",
        "data = [10, 5, 20, 15]\n",
        "min_val, max_val = get_min_max(data)\n",
        "print(f\"Min value: {min_val}, Max value: {max_val}\")\n",
        "\n",
        "# Function with no explicit return (implicitly returns None)\n",
        "def print_message(message):\n",
        "  print(message)\n",
        "  # No return statement\n",
        "\n",
        "return_value = print_message(\"This function returns None\")\n",
        "print(f\"The return value is: {return_value}\")\n",
        "\n"
      ]
    },
    {
      "cell_type": "code",
      "execution_count": null,
      "id": "zzadw-2g4a9-",
      "metadata": {
        "id": "zzadw-2g4a9-"
      },
      "outputs": [],
      "source": [
        "# Function returning a boolean\n",
        "def is_even(number):\n",
        "  # YOUR CODE HERE\n",
        "  pass # remove this line\n",
        "\n",
        "print(f\"Is 7 even? {is_even(7)}\")\n",
        "print(f\"Is 10 even? {is_even(10)}\")"
      ]
    },
    {
      "cell_type": "code",
      "execution_count": null,
      "id": "XEp71BB84TjZ",
      "metadata": {
        "id": "XEp71BB84TjZ"
      },
      "outputs": [],
      "source": [
        "\n",
        "# Using a returned value in a calculation\n",
        "def calculate_area(radius):\n",
        "  # YOUR CODE HERE...\n",
        "  pass # remove this line\n",
        "\n",
        "circle_area = calculate_area(5)\n",
        "print(f\"The area of the circle is: {circle_area:.2f}\")\n",
        "\n"
      ]
    },
    {
      "cell_type": "markdown",
      "id": "WUJE0LqsS6Ud",
      "metadata": {
        "id": "WUJE0LqsS6Ud"
      },
      "source": [
        "### Lambda functions\n",
        "A lambda function is a small, anonymous function defined using the lambda keyword. It can have any number of arguments but only one expression, which is returned automatically."
      ]
    },
    {
      "cell_type": "code",
      "execution_count": null,
      "id": "n3EedEAtS3DZ",
      "metadata": {
        "id": "n3EedEAtS3DZ"
      },
      "outputs": [],
      "source": [
        "# Simple lambda function\n",
        "add = lambda x, y: x + y\n",
        "print(f\"Lambda addition: {add(3, 5)}\")\n",
        "\n",
        "# Lambda function used with filter()\n",
        "numbers = [1, 2, 3, 4, 5, 6, 7, 8, 9, 10]\n",
        "even_numbers = list(filter(lambda n: n % 2 == 0, numbers))\n",
        "print(f\"Even numbers: {even_numbers}\")\n",
        "\n",
        "# Lambda function used with map()\n",
        "numbers = [1, 2, 3, 4, 5]\n",
        "squared_numbers = list(map(lambda x: x**2, numbers))\n",
        "print(f\"Squared numbers: {squared_numbers}\")\n",
        "\n",
        "# Lambda function used for sorting\n",
        "students = [('Alice', 30), ('Bob', 25), ('Charlie', 35)]\n",
        "# Sort by age (the second element of the tuple)\n",
        "sorted_students_by_age = sorted(students, key=lambda student: student[1])\n",
        "print(f\"Sorted students by age: {sorted_students_by_age}\")\n",
        "\n",
        "# Lambda function with multiple arguments in a function call\n",
        "def apply_operation(x, y, operation):\n",
        "  return operation(x, y)\n",
        "\n",
        "result = apply_operation(10, 20, lambda a, b: a - b)\n",
        "print(f\"Lambda operation result: {result}\")"
      ]
    },
    {
      "cell_type": "markdown",
      "id": "00jSbXwtQqfM",
      "metadata": {
        "id": "00jSbXwtQqfM"
      },
      "source": [
        "## Object-Oriented Programming (OOP)\n",
        "- Classes and Objects\n",
        "- Methods and Constructors\n",
        "- Inheritance"
      ]
    },
    {
      "cell_type": "code",
      "execution_count": null,
      "id": "zM4GQEPjsQie",
      "metadata": {
        "id": "zM4GQEPjsQie"
      },
      "outputs": [],
      "source": [
        "class Animal:\n",
        "    def __init__(self, name):\n",
        "        self.name = name\n",
        "    def speak(self):\n",
        "        return f\"{self.name} makes a sound\"\n",
        "\n",
        "dog = Animal(\"Dog\")\n",
        "print(dog.speak())"
      ]
    },
    {
      "cell_type": "markdown",
      "id": "crBZXAwxVRmy",
      "metadata": {
        "id": "crBZXAwxVRmy"
      },
      "source": [
        "### Classes and Objects\n",
        "**Classes** are blueprints for creating objects, defining the structure and behavior (methods and attributes) they will have. They encapsulate data and functions into a single unit.\n",
        "\n",
        "**Objects** are instances of classes that hold actual data and can perform actions using class-defined methods. Each object can have different values for its attributes.\n"
      ]
    },
    {
      "cell_type": "code",
      "execution_count": null,
      "id": "r6F7Sy4dUgAL",
      "metadata": {
        "id": "r6F7Sy4dUgAL"
      },
      "outputs": [],
      "source": [
        "# Basic Class and Object Creation\n",
        "class Dog:\n",
        "    species = \"Canis familiaris\"\n",
        "    def __init__(self, name, age):\n",
        "        self.name = name\n",
        "        self.age = age\n",
        "        print(f\"A new dog named {self.name} is born!\") # Constructor action\n",
        "\n",
        "    # Instance method\n",
        "    def bark(self):\n",
        "        print(f\"{self.name} says Woof!\")\n",
        "\n",
        "    # Destructor\n",
        "    def __del__(self):\n",
        "        print(f\"{self.name} is leaving us.\")\n",
        "\n",
        "my_dog = Dog(\"Buddy\", 3)\n",
        "your_dog = Dog(\"Lucy\", 5)\n",
        "\n",
        "\n",
        "print(f\"{my_dog.name} is {my_dog.age} years old.\")\n",
        "print(f\"{your_dog.name} is {your_dog.age} years old.\")\n",
        "\n",
        "my_dog.bark()\n",
        "your_dog.bark()\n",
        "\n",
        "print(f\"All dogs are of species: {Dog.species}\")\n",
        "print(f\"My dog is of species: {my_dog.species}\")\n",
        "\n",
        "# The __del__ method will be called automatically when the object is garbage collected or when its reference count drops to zero.\n",
        "del your_dog\n"
      ]
    },
    {
      "cell_type": "markdown",
      "id": "2h2IfF-RuXxl",
      "metadata": {
        "id": "2h2IfF-RuXxl"
      },
      "source": [
        "### Methods and Constructors\n",
        "**Methods** are functions defined inside a class that operate on objects of that class. They are used to define the behavior or actions an object can perform.  \n",
        "**Constructors** are special methods that are automatically called when a new object is created."
      ]
    },
    {
      "cell_type": "code",
      "execution_count": null,
      "id": "vs3l_OwyqZPH",
      "metadata": {
        "id": "vs3l_OwyqZPH"
      },
      "outputs": [],
      "source": [
        "# __init__ method\n",
        "# The `__init__` method in a class is a special constructor function that automatically runs when a new object is created. It initializes the object’s attributes with the values provided during instantiation.\n"
      ]
    },
    {
      "cell_type": "code",
      "execution_count": null,
      "id": "1xb20ZPQVvrG",
      "metadata": {
        "id": "1xb20ZPQVvrG"
      },
      "outputs": [],
      "source": [
        "# Class with another method and using 'self'\n",
        "class Car:\n",
        "    def __init__(self, make, model, year):\n",
        "        self.make = make\n",
        "        self.model = model\n",
        "        self.year = year\n",
        "        self.is_engine_started = False\n",
        "\n",
        "    def start_engine(self):\n",
        "        if not self.is_engine_started:\n",
        "            self.is_engine_started = True\n",
        "            print(f\"The {self.year} {self.make} {self.model}'s engine started.\")\n",
        "        else:\n",
        "            print(\"The engine is already running.\")\n",
        "\n",
        "    def display_info(self):\n",
        "        print(f\"Car: {self.year} {self.make} {self.model}\")\n",
        "\n",
        "my_car = Car(\"Toyota\", \"Camry\", 2020)\n",
        "\n",
        "my_car.display_info()\n",
        "my_car.start_engine()\n",
        "my_car.start_engine()\n",
        "\n",
        "\n"
      ]
    },
    {
      "cell_type": "markdown",
      "id": "WFnej47juvbK",
      "metadata": {
        "id": "WFnej47juvbK"
      },
      "source": [
        "### Inheritance\n",
        "Inheritance is an object-oriented programming concept where a class (called a child or subclass) inherits properties and behaviors (methods and attributes) from another class (called a parent or superclass)."
      ]
    },
    {
      "cell_type": "code",
      "execution_count": null,
      "id": "2bknNE6LV7ZV",
      "metadata": {
        "id": "2bknNE6LV7ZV"
      },
      "outputs": [],
      "source": [
        "class Animal:\n",
        "    def __init__(self, name):\n",
        "        self.name = name\n",
        "        print(f\"An animal named {self.name} is created.\")\n",
        "\n",
        "    def speak(self):\n",
        "        pass\n",
        "\n",
        "    def __del__(self):\n",
        "        print(f\"The animal {self.name} is no longer with us.\")\n",
        "\n",
        "\n",
        "class Cat(Animal):\n",
        "    def __init__(self, name, breed):\n",
        "        super().__init__(name)  # Call the parent class constructor\n",
        "        self.breed = breed\n",
        "        print(f\"A cat named {self.name} of breed {self.breed} is created.\")\n",
        "\n",
        "\n",
        "    # Override the speak method\n",
        "    def speak(self):\n",
        "        print(f\"{self.name} says Meow!\")\n",
        "\n",
        "    def __del__(self):\n",
        "        print(f\"The cat {self.name} is leaving us.\")\n",
        "        super().__del__()\n",
        "\n",
        "\n",
        "my_cat = Cat(\"Whiskers\", \"Siamese\")\n",
        "\n",
        "\n",
        "my_cat.speak()\n",
        "print(f\"My cat's name is {my_cat.name} and breed is {my_cat.breed}.\")\n",
        "\n",
        "# The destructors will be called when the objects are deleted or go out of scope\n",
        "# del my_cat\n",
        "\n",
        "\n"
      ]
    },
    {
      "cell_type": "code",
      "execution_count": null,
      "id": "TdhAkL3CWCEA",
      "metadata": {
        "id": "TdhAkL3CWCEA"
      },
      "outputs": [],
      "source": [
        "import math\n",
        "\n",
        "class Circle:\n",
        "    def __init__(self, radius):\n",
        "        self.radius = radius\n",
        "\n",
        "    def get_area(self):\n",
        "        return math.pi * self.radius**2\n",
        "\n",
        "    def get_circumference(self):\n",
        "        return 2 * math.pi * self.radius\n",
        "\n",
        "circle1 = Circle(5)\n",
        "circle2 = Circle(10)\n",
        "\n",
        "print(f\"Area of circle1: {circle1.get_area():.2f}\")\n",
        "print(f\"Circumference of circle2: {circle2.get_circumference():.2f}\")"
      ]
    },
    {
      "cell_type": "markdown",
      "id": "UVJ8-N0rt98w",
      "metadata": {
        "id": "UVJ8-N0rt98w"
      },
      "source": [
        "TASK4:\n",
        "Complete the methods to add a book, display available books, and borrow a book from the library."
      ]
    },
    {
      "cell_type": "code",
      "execution_count": null,
      "id": "0jwulN34uA3s",
      "metadata": {
        "colab": {
          "base_uri": "https://localhost:8080/"
        },
        "id": "0jwulN34uA3s",
        "outputId": "fbb2de45-2817-4781-ef61-05ac5772ad0d"
      },
      "outputs": [
        {
          "name": "stdout",
          "output_type": "stream",
          "text": [
            "1984 added.\n",
            "To Kill a Mockingbird added.\n",
            "['1984', 'To Kill a Mockingbird']\n",
            "available\n"
          ]
        },
        {
          "data": {
            "text/plain": [
              "['To Kill a Mockingbird']"
            ]
          },
          "execution_count": 6,
          "metadata": {},
          "output_type": "execute_result"
        }
      ],
      "source": [
        "class Library:\n",
        "    def __init__(self):\n",
        "        self.books = []\n",
        "\n",
        "    def add_book(self, book):\n",
        "        \"\"\"\n",
        "        Add a new book to the library.\n",
        "        \"\"\"\n",
        "        # Your code here\n",
        "        self.books.append(book)\n",
        "        print(f\"{book} added.\")\n",
        "\n",
        "    def display_books(self):\n",
        "        \"\"\"\n",
        "        Display all available books in the library.\n",
        "        \"\"\"\n",
        "        # Your code here\n",
        "        return self.books\n",
        "\n",
        "    def borrow_book(self, book):\n",
        "        \"\"\"\n",
        "        Borrow a book if it's available.\n",
        "        \"\"\"\n",
        "        # Your code here\n",
        "        if book in self.books:\n",
        "          self.books.remove(book)\n",
        "          return \"available\"\n",
        "        else:\n",
        "          return \"unavailable\"\n",
        "\n",
        "\n",
        "\n",
        "lib = Library()\n",
        "\n",
        "# Add books\n",
        "lib.add_book(\"1984\")\n",
        "lib.add_book(\"To Kill a Mockingbird\")\n",
        "\n",
        "# Display books\n",
        "print(lib.display_books())\n",
        "\n",
        "# Borrow a book\n",
        "print(lib.borrow_book(\"1984\"))\n",
        "\n",
        "# Display again to see the update\n",
        "lib.display_books()\n"
      ]
    },
    {
      "cell_type": "markdown",
      "id": "NeBXDhoLvSIj",
      "metadata": {
        "id": "NeBXDhoLvSIj"
      },
      "source": [
        "## Review of Python Packages for data ( Numpy and Pandas"
      ]
    },
    {
      "cell_type": "markdown",
      "id": "icSKdocLQqfN",
      "metadata": {
        "id": "icSKdocLQqfN"
      },
      "source": [
        "### NumPy\n",
        "NumPy is a Python library used for fast numerical computations, especially with arrays and matrices.\n",
        "We will see..**bold text**\n",
        "- Arrays\n",
        "- Array Operations\n",
        "- Indexing and Slicing"
      ]
    },
    {
      "cell_type": "markdown",
      "id": "FGeFNJDOX_KH",
      "metadata": {
        "id": "FGeFNJDOX_KH"
      },
      "source": [
        "**Why** are we using numpy\n",
        "\n",
        "- Fast and efficient operations on large arrays and matrices\n",
        "\n",
        "- Built-in functions for mathematical, statistical, and linear algebra tasks\n"
      ]
    },
    {
      "cell_type": "code",
      "execution_count": null,
      "id": "bKYBhqr6Xl2S",
      "metadata": {
        "id": "bKYBhqr6Xl2S"
      },
      "outputs": [],
      "source": [
        "import numpy as np\n",
        "import time\n",
        "\n",
        "# Using list\n",
        "list_data = list(range(1_000_000))\n",
        "start = time.time()\n",
        "list_squared = [x**2 for x in list_data]\n",
        "print(\"Python list time:\", time.time() - start)\n",
        "\n",
        "# Using NumPy\n",
        "array_data = np.arange(1_000_000)\n",
        "start = time.time()\n",
        "array_squared = array_data ** 2\n",
        "print(\"NumPy array time:\", time.time() - start)\n"
      ]
    },
    {
      "cell_type": "code",
      "execution_count": null,
      "id": "UdKCyN74X6yT",
      "metadata": {
        "id": "UdKCyN74X6yT"
      },
      "outputs": [],
      "source": [
        "# Vector operation\n",
        "a = np.array([1, 2, 3])\n",
        "b = np.array([4, 5, 6])\n",
        "print(\"Sum:\", a + b)\n",
        "print(\"Element-wise product:\", a * b)\n"
      ]
    },
    {
      "cell_type": "code",
      "execution_count": null,
      "id": "5jwJXv3VYIi3",
      "metadata": {
        "id": "5jwJXv3VYIi3"
      },
      "outputs": [],
      "source": [
        "# Matrix\n",
        "matrix = np.array([[1, 2, 3], [4, 5, 6]])\n",
        "scalar = 10\n",
        "print(\"Add scalar to matrix:\\n\", matrix + scalar)\n"
      ]
    },
    {
      "cell_type": "code",
      "execution_count": null,
      "id": "sOlPEempYR2I",
      "metadata": {
        "id": "sOlPEempYR2I"
      },
      "outputs": [],
      "source": [
        "# Boolean\n",
        "arr = np.array([10, 20, 30, 40, 50])\n",
        "print(\"Elements > 25:\", arr[arr > 25])\n"
      ]
    },
    {
      "cell_type": "code",
      "execution_count": null,
      "id": "RMiE2XXUYaSN",
      "metadata": {
        "id": "RMiE2XXUYaSN"
      },
      "outputs": [],
      "source": [
        "# Statical operation\n",
        "data = np.array([1, 2, 3, 4, 5])\n",
        "print(\"Mean:\", np.mean(data))\n",
        "print(\"Standard Deviation:\", np.std(data))\n",
        "print(\"Sum:\", np.sum(data))\n"
      ]
    },
    {
      "cell_type": "code",
      "execution_count": null,
      "id": "UKVlcwmbYeNa",
      "metadata": {
        "id": "UKVlcwmbYeNa"
      },
      "outputs": [],
      "source": [
        "# multi-dimensional array\n",
        "a = np.array([[1, 2], [3, 4], [5, 6]])\n",
        "print(\"Shape:\", a.shape)\n",
        "print(\"Access element [1, 1]:\", a[1, 1])\n"
      ]
    },
    {
      "cell_type": "code",
      "execution_count": null,
      "id": "GDC6GS6VYpUs",
      "metadata": {
        "id": "GDC6GS6VYpUs"
      },
      "outputs": [],
      "source": [
        "# linear algebra\n",
        "A = np.array([[1, 2], [3, 4]])\n",
        "B = np.array([[2, 0], [1, 2]])\n",
        "print(\"Matrix multiplication:\\n\", A @ B)\n",
        "print(\"Inverse of A:\\n\", np.linalg.inv(A))\n"
      ]
    },
    {
      "cell_type": "code",
      "execution_count": null,
      "id": "a6iekL7TYqQk",
      "metadata": {
        "id": "a6iekL7TYqQk"
      },
      "outputs": [],
      "source": [
        "# handle missing values\n",
        "data = np.array([1, 2, np.nan, 4])\n",
        "print(\"Mean (ignoring NaNs):\", np.nanmean(data))\n"
      ]
    },
    {
      "cell_type": "markdown",
      "id": "G6tZMdsQ1nB7",
      "metadata": {
        "id": "G6tZMdsQ1nB7"
      },
      "source": [
        "TASK5:\n",
        "Create a NumPy array of 100 random integers between 1 and 1000.\n",
        "- Find the mean, median, and standard deviation of the array.\n",
        "- Replace all values below the mean with the mean value itself.\n",
        "- Print the updated array."
      ]
    },
    {
      "cell_type": "code",
      "execution_count": null,
      "id": "K96ns8HL17-5",
      "metadata": {
        "colab": {
          "base_uri": "https://localhost:8080/"
        },
        "id": "K96ns8HL17-5",
        "outputId": "ddb5f694-429a-4961-9b22-ff517e89cb26"
      },
      "outputs": [
        {
          "name": "stdout",
          "output_type": "stream",
          "text": [
            "mean 502.39\n",
            "median 484.0\n",
            "standard deviation 294.1723268766115\n",
            "[558 623 502 705 502 646 566 502 502 929 502 553 855 975 502 502 818 502\n",
            " 502 502 656 502 502 502 726 502 592 502 502 855 978 633 502 502 645 714\n",
            " 502 502 502 502 795 502 527 977 833 502 777 502 502 695 799 502 502 805\n",
            " 502 502 502 781 960 502 563 861 862 502 903 502 521 502 502 938 502 502\n",
            " 502 901 706 502 714 999 502 502 502 849 810 833 502 866 502 502 769 502\n",
            " 502 502 502 502 502 502 965 914 502 725]\n"
          ]
        }
      ],
      "source": [
        "import numpy as np\n",
        "\n",
        "# arr = np.arange(1000)\n",
        "arr = np.random.randint(1, 1000, 100)\n",
        "# arr.mean(), arr.std(), arr.min()\n",
        "print(\"mean\", arr.mean())\n",
        "print(\"median\", np.median(arr))\n",
        "print(\"standard deviation\", arr.std())\n",
        "\n",
        "mean = int(arr.mean())\n",
        "arr[arr < mean] = mean\n",
        "# arr = [mean if i < mean else i for i in arr]\n",
        "print(arr)"
      ]
    },
    {
      "cell_type": "markdown",
      "id": "_n5vlKsXQqfP",
      "metadata": {
        "id": "_n5vlKsXQqfP"
      },
      "source": [
        "## Pandas\n",
        "Pandas is a Python library for data manipulation and analysis, providing easy-to-use data structures like DataFrames.  \n",
        "We will see..\n",
        "- Series and DataFrames\n",
        "- Reading and Writing Data\n",
        "- Data Selection and Filtering"
      ]
    },
    {
      "cell_type": "markdown",
      "id": "4jECFSJjw-ax",
      "metadata": {
        "id": "4jECFSJjw-ax"
      },
      "source": [
        "#### **We** use it because:\n",
        "- It simplifies handling and cleaning of structured data (like CSVs, tables).\n",
        "- It offers powerful tools for data analysis and transformation with intuitive syntax."
      ]
    },
    {
      "cell_type": "code",
      "execution_count": null,
      "id": "x4eNDeuEQqfP",
      "metadata": {
        "id": "x4eNDeuEQqfP"
      },
      "outputs": [],
      "source": [
        "# Importing pandas\n",
        "import pandas as pd\n",
        "\n",
        "# Supress warnings\n",
        "import warnings\n",
        "warnings.filterwarnings('ignore')"
      ]
    },
    {
      "cell_type": "code",
      "execution_count": null,
      "id": "2QSeIEucaBRT",
      "metadata": {
        "id": "2QSeIEucaBRT"
      },
      "outputs": [],
      "source": [
        "# 1d Series\n",
        "data = [1, 2, 3, 4, 5]\n",
        "series = pd.Series(data)\n",
        "series"
      ]
    },
    {
      "cell_type": "code",
      "execution_count": null,
      "id": "mZMO9AF0aLrs",
      "metadata": {
        "id": "mZMO9AF0aLrs"
      },
      "outputs": [],
      "source": [
        "# Dataframe 2d like table\n",
        "data = {\n",
        "    'Name': ['Alice', 'Bob', 'Charlie', 'Ram', None, 'Eva'],\n",
        "    'Age': [25, 30, None, 34, 22, 28],\n",
        "    'City': ['New York', 'San Francisco', 'Los Angeles', 'Kathmandu', 'Chicago', 'Houston'],\n",
        "    'Occupation': ['Engineer', 'Artist', 'Doctor', 'Teacher', 'Developer', 'Designer'],\n",
        "    'Marital Status': ['Single', 'Married', 'Single', 'Married', 'Single', 'Single']\n",
        "}\n",
        "\n",
        "df = pd.DataFrame(data)\n",
        "df"
      ]
    },
    {
      "cell_type": "markdown",
      "id": "hESkWfRBaScF",
      "metadata": {
        "id": "hESkWfRBaScF"
      },
      "source": [
        "### Reading and Writing Data\n",
        "#### Reading form different file format\n",
        "```python\n",
        "df = pd.read_csv('data.csv')\n",
        "df = pd.read_json('data.json')\n",
        "df = pd.read_csv('data.txt', delimiter='\\t')\n",
        "```\n",
        "#### Writing data to different file format\n",
        "```python\n",
        "df.to_csv('output.csv', index=False)\n",
        "df.to_json('output.json', orient='records', lines=True) #in place of records we can also use (split, index, columns, values)\n",
        "df.to_csv('output.txt', sep='\\t', index=False)\n",
        "```"
      ]
    },
    {
      "cell_type": "code",
      "execution_count": null,
      "id": "ptOfnYYWyBRG",
      "metadata": {
        "id": "ptOfnYYWyBRG"
      },
      "outputs": [],
      "source": [
        "### Load any of your data here..."
      ]
    },
    {
      "cell_type": "markdown",
      "id": "CS01xJE1alR3",
      "metadata": {
        "id": "CS01xJE1alR3"
      },
      "source": [
        "### Data Inspection"
      ]
    },
    {
      "cell_type": "code",
      "execution_count": null,
      "id": "PRDA0o_6aXTo",
      "metadata": {
        "id": "PRDA0o_6aXTo"
      },
      "outputs": [],
      "source": [
        "df.head()"
      ]
    },
    {
      "cell_type": "code",
      "execution_count": null,
      "id": "3C-c6-gkyL16",
      "metadata": {
        "id": "3C-c6-gkyL16"
      },
      "outputs": [],
      "source": [
        "df.tail()"
      ]
    },
    {
      "cell_type": "markdown",
      "id": "drIv94M2a05e",
      "metadata": {
        "id": "drIv94M2a05e"
      },
      "source": [
        "#### Getting basic information about the DataFrame"
      ]
    },
    {
      "cell_type": "code",
      "execution_count": null,
      "id": "Ap_uC8hWavXK",
      "metadata": {
        "id": "Ap_uC8hWavXK"
      },
      "outputs": [],
      "source": [
        "df.info()\n",
        "df.columns\n",
        "df.dtypes\n",
        "df.describe()\n",
        "df.T\n",
        "sorted_column_df = df.sort_index(axis=1, ascending=True)\n",
        "sorted_rows_df = df.sort_values(by='Name', ascending=True)\n"
      ]
    },
    {
      "cell_type": "code",
      "execution_count": null,
      "id": "OAXMzZxmbWHv",
      "metadata": {
        "id": "OAXMzZxmbWHv"
      },
      "outputs": [],
      "source": [
        "ages = df['Age']\n",
        "subset = df[['Name', 'City']]\n",
        "df2 = df[0:3]\n",
        "selected_row = df[df['City'] == 'New York']\n",
        "df.loc[:, [\"Name\", \"Age\"]]\n"
      ]
    },
    {
      "cell_type": "code",
      "execution_count": null,
      "id": "H0rJj_fVcmGE",
      "metadata": {
        "id": "H0rJj_fVcmGE"
      },
      "outputs": [],
      "source": [
        "# concatination is method for combining dataframes:\n",
        "\n",
        "df1 = pd.DataFrame({'key': ['A', 'B', 'C'], 'value1': [1, 2, 3]})\n",
        "df2 = pd.DataFrame({'key': ['A', 'B', 'D'], 'value2': [4, 5, 6]})\n",
        "\n",
        "\n",
        "concatenated_df2 = pd.concat([df1,df2])\n",
        "\n",
        "print(concatenated_df2)"
      ]
    },
    {
      "cell_type": "code",
      "execution_count": null,
      "id": "aUBz6b-NcvGW",
      "metadata": {
        "id": "aUBz6b-NcvGW"
      },
      "outputs": [],
      "source": [
        "# Joining DataFrames:\n",
        "df1 = pd.DataFrame({'key': ['A', 'B', 'C'], 'value1': [1, 2, 3]})\n",
        "df2 = pd.DataFrame({'key': ['A', 'B', 'D'], 'value2': [4, 5, 6]})\n",
        "\n",
        "# default of merge is inner\n",
        "concatenated_df = pd.merge(df1, df2)\n",
        "print(concatenated_df)\n",
        "\n",
        "concatenated_df = pd.merge(df1, df2, on='key')"
      ]
    },
    {
      "cell_type": "code",
      "execution_count": null,
      "id": "KLb_gvK8zzui",
      "metadata": {
        "id": "KLb_gvK8zzui"
      },
      "outputs": [],
      "source": [
        "# Sample DataFrame with NaN values\n",
        "data = {\n",
        "    'Name': ['Alice', 'Bob', 'Charlie', 'David', 'Eva'],\n",
        "    'Age': [25, np.nan, 35, 40, np.nan],\n",
        "    'Score': [85, 90, np.nan, 88, 92]\n",
        "}\n",
        "\n",
        "df3 = pd.DataFrame(data)\n",
        "df3"
      ]
    },
    {
      "cell_type": "code",
      "execution_count": null,
      "id": "jLWhSRFFz5BD",
      "metadata": {
        "id": "jLWhSRFFz5BD"
      },
      "outputs": [],
      "source": [
        "# Fill NaN values with the mean of their respective columns using lambda\n",
        "df3[['Age', 'Score']] = df3[['Age', 'Score']].apply(lambda col: col.fillna(col.mean()))\n",
        "df3"
      ]
    },
    {
      "cell_type": "code",
      "execution_count": null,
      "id": "-B5QozaSc1GY",
      "metadata": {
        "id": "-B5QozaSc1GY"
      },
      "outputs": [],
      "source": [
        "# Grouping by 'City' and applying multiple aggregations\n",
        "data = {\n",
        "    'Name': ['Alice', 'Bob', 'Charlie', 'David', 'Eva', 'Frank', 'Grace', 'Helen'],\n",
        "    'Age': [25, 30, 35, 40, 22, 28, 33, 38],\n",
        "    'City': ['New York', 'Los Angeles', 'New York', 'Chicago', 'Chicago', 'Los Angeles', 'New York', 'Chicago'],\n",
        "    'Marital Status': ['Single', 'Married', 'Single', 'Married', 'Single', 'Single', 'Married', 'Single']\n",
        "}\n",
        "\n",
        "df4 = pd.DataFrame(data)\n"
      ]
    },
    {
      "cell_type": "code",
      "execution_count": null,
      "id": "Eww5JiYSzXcZ",
      "metadata": {
        "id": "Eww5JiYSzXcZ"
      },
      "outputs": [],
      "source": [
        "aggregated = df4.groupby('City').agg({\n",
        "    'Age': ['mean', 'max'],\n",
        "    'Name': 'count'\n",
        "}).reset_index()\n",
        "aggregated"
      ]
    },
    {
      "cell_type": "code",
      "execution_count": null,
      "id": "P69GII18zk5A",
      "metadata": {
        "id": "P69GII18zk5A"
      },
      "outputs": [],
      "source": [
        "grouped = df4.groupby('Marital Status').agg({'Age':'mean'})\n",
        "grouped"
      ]
    },
    {
      "cell_type": "markdown",
      "id": "ru0pp0hO2wMI",
      "metadata": {
        "id": "ru0pp0hO2wMI"
      },
      "source": [
        "TASK6\n",
        "- Fill missing values in the \"Grade\" column with \"Pending\".\n",
        "- Filter and display students who scored more than 75.\n",
        "- Group the data by \"Subject\" and calculate the average score."
      ]
    },
    {
      "cell_type": "code",
      "execution_count": null,
      "id": "-5oOU4E5zlmi",
      "metadata": {
        "colab": {
          "base_uri": "https://localhost:8080/",
          "height": 237
        },
        "id": "-5oOU4E5zlmi",
        "outputId": "b621d927-10b0-4fd9-df97-2573e3ac2071"
      },
      "outputs": [
        {
          "data": {
            "application/vnd.google.colaboratory.intrinsic+json": {
              "summary": "{\n  \"name\": \"df\",\n  \"rows\": 6,\n  \"fields\": [\n    {\n      \"column\": \"Name\",\n      \"properties\": {\n        \"dtype\": \"string\",\n        \"num_unique_values\": 6,\n        \"samples\": [\n          \"Alice\",\n          \"Bob\",\n          \"Frank\"\n        ],\n        \"semantic_type\": \"\",\n        \"description\": \"\"\n      }\n    },\n    {\n      \"column\": \"Subject\",\n      \"properties\": {\n        \"dtype\": \"string\",\n        \"num_unique_values\": 3,\n        \"samples\": [\n          \"Math\",\n          \"Science\",\n          \"English\"\n        ],\n        \"semantic_type\": \"\",\n        \"description\": \"\"\n      }\n    },\n    {\n      \"column\": \"Score\",\n      \"properties\": {\n        \"dtype\": \"number\",\n        \"std\": 12,\n        \"min\": 59,\n        \"max\": 92,\n        \"num_unique_values\": 6,\n        \"samples\": [\n          88,\n          67,\n          81\n        ],\n        \"semantic_type\": \"\",\n        \"description\": \"\"\n      }\n    },\n    {\n      \"column\": \"Grade\",\n      \"properties\": {\n        \"dtype\": \"string\",\n        \"num_unique_values\": 4,\n        \"samples\": [\n          \"Pending\",\n          \"B\",\n          \"A\"\n        ],\n        \"semantic_type\": \"\",\n        \"description\": \"\"\n      }\n    }\n  ]\n}",
              "type": "dataframe",
              "variable_name": "df"
            },
            "text/html": [
              "\n",
              "  <div id=\"df-3a60a603-267a-4534-b46e-9a7742941b9e\" class=\"colab-df-container\">\n",
              "    <div>\n",
              "<style scoped>\n",
              "    .dataframe tbody tr th:only-of-type {\n",
              "        vertical-align: middle;\n",
              "    }\n",
              "\n",
              "    .dataframe tbody tr th {\n",
              "        vertical-align: top;\n",
              "    }\n",
              "\n",
              "    .dataframe thead th {\n",
              "        text-align: right;\n",
              "    }\n",
              "</style>\n",
              "<table border=\"1\" class=\"dataframe\">\n",
              "  <thead>\n",
              "    <tr style=\"text-align: right;\">\n",
              "      <th></th>\n",
              "      <th>Name</th>\n",
              "      <th>Subject</th>\n",
              "      <th>Score</th>\n",
              "      <th>Grade</th>\n",
              "    </tr>\n",
              "  </thead>\n",
              "  <tbody>\n",
              "    <tr>\n",
              "      <th>0</th>\n",
              "      <td>Alice</td>\n",
              "      <td>Math</td>\n",
              "      <td>88</td>\n",
              "      <td>A</td>\n",
              "    </tr>\n",
              "    <tr>\n",
              "      <th>1</th>\n",
              "      <td>Bob</td>\n",
              "      <td>Science</td>\n",
              "      <td>67</td>\n",
              "      <td>Pending</td>\n",
              "    </tr>\n",
              "    <tr>\n",
              "      <th>2</th>\n",
              "      <td>Charlie</td>\n",
              "      <td>English</td>\n",
              "      <td>92</td>\n",
              "      <td>A+</td>\n",
              "    </tr>\n",
              "    <tr>\n",
              "      <th>3</th>\n",
              "      <td>David</td>\n",
              "      <td>Math</td>\n",
              "      <td>74</td>\n",
              "      <td>B</td>\n",
              "    </tr>\n",
              "    <tr>\n",
              "      <th>4</th>\n",
              "      <td>Eva</td>\n",
              "      <td>Science</td>\n",
              "      <td>59</td>\n",
              "      <td>Pending</td>\n",
              "    </tr>\n",
              "    <tr>\n",
              "      <th>5</th>\n",
              "      <td>Frank</td>\n",
              "      <td>English</td>\n",
              "      <td>81</td>\n",
              "      <td>A</td>\n",
              "    </tr>\n",
              "  </tbody>\n",
              "</table>\n",
              "</div>\n",
              "    <div class=\"colab-df-buttons\">\n",
              "\n",
              "  <div class=\"colab-df-container\">\n",
              "    <button class=\"colab-df-convert\" onclick=\"convertToInteractive('df-3a60a603-267a-4534-b46e-9a7742941b9e')\"\n",
              "            title=\"Convert this dataframe to an interactive table.\"\n",
              "            style=\"display:none;\">\n",
              "\n",
              "  <svg xmlns=\"http://www.w3.org/2000/svg\" height=\"24px\" viewBox=\"0 -960 960 960\">\n",
              "    <path d=\"M120-120v-720h720v720H120Zm60-500h600v-160H180v160Zm220 220h160v-160H400v160Zm0 220h160v-160H400v160ZM180-400h160v-160H180v160Zm440 0h160v-160H620v160ZM180-180h160v-160H180v160Zm440 0h160v-160H620v160Z\"/>\n",
              "  </svg>\n",
              "    </button>\n",
              "\n",
              "  <style>\n",
              "    .colab-df-container {\n",
              "      display:flex;\n",
              "      gap: 12px;\n",
              "    }\n",
              "\n",
              "    .colab-df-convert {\n",
              "      background-color: #E8F0FE;\n",
              "      border: none;\n",
              "      border-radius: 50%;\n",
              "      cursor: pointer;\n",
              "      display: none;\n",
              "      fill: #1967D2;\n",
              "      height: 32px;\n",
              "      padding: 0 0 0 0;\n",
              "      width: 32px;\n",
              "    }\n",
              "\n",
              "    .colab-df-convert:hover {\n",
              "      background-color: #E2EBFA;\n",
              "      box-shadow: 0px 1px 2px rgba(60, 64, 67, 0.3), 0px 1px 3px 1px rgba(60, 64, 67, 0.15);\n",
              "      fill: #174EA6;\n",
              "    }\n",
              "\n",
              "    .colab-df-buttons div {\n",
              "      margin-bottom: 4px;\n",
              "    }\n",
              "\n",
              "    [theme=dark] .colab-df-convert {\n",
              "      background-color: #3B4455;\n",
              "      fill: #D2E3FC;\n",
              "    }\n",
              "\n",
              "    [theme=dark] .colab-df-convert:hover {\n",
              "      background-color: #434B5C;\n",
              "      box-shadow: 0px 1px 3px 1px rgba(0, 0, 0, 0.15);\n",
              "      filter: drop-shadow(0px 1px 2px rgba(0, 0, 0, 0.3));\n",
              "      fill: #FFFFFF;\n",
              "    }\n",
              "  </style>\n",
              "\n",
              "    <script>\n",
              "      const buttonEl =\n",
              "        document.querySelector('#df-3a60a603-267a-4534-b46e-9a7742941b9e button.colab-df-convert');\n",
              "      buttonEl.style.display =\n",
              "        google.colab.kernel.accessAllowed ? 'block' : 'none';\n",
              "\n",
              "      async function convertToInteractive(key) {\n",
              "        const element = document.querySelector('#df-3a60a603-267a-4534-b46e-9a7742941b9e');\n",
              "        const dataTable =\n",
              "          await google.colab.kernel.invokeFunction('convertToInteractive',\n",
              "                                                    [key], {});\n",
              "        if (!dataTable) return;\n",
              "\n",
              "        const docLinkHtml = 'Like what you see? Visit the ' +\n",
              "          '<a target=\"_blank\" href=https://colab.research.google.com/notebooks/data_table.ipynb>data table notebook</a>'\n",
              "          + ' to learn more about interactive tables.';\n",
              "        element.innerHTML = '';\n",
              "        dataTable['output_type'] = 'display_data';\n",
              "        await google.colab.output.renderOutput(dataTable, element);\n",
              "        const docLink = document.createElement('div');\n",
              "        docLink.innerHTML = docLinkHtml;\n",
              "        element.appendChild(docLink);\n",
              "      }\n",
              "    </script>\n",
              "  </div>\n",
              "\n",
              "\n",
              "    <div id=\"df-e103d467-c25c-47a9-9b01-cfd03448067f\">\n",
              "      <button class=\"colab-df-quickchart\" onclick=\"quickchart('df-e103d467-c25c-47a9-9b01-cfd03448067f')\"\n",
              "                title=\"Suggest charts\"\n",
              "                style=\"display:none;\">\n",
              "\n",
              "<svg xmlns=\"http://www.w3.org/2000/svg\" height=\"24px\"viewBox=\"0 0 24 24\"\n",
              "     width=\"24px\">\n",
              "    <g>\n",
              "        <path d=\"M19 3H5c-1.1 0-2 .9-2 2v14c0 1.1.9 2 2 2h14c1.1 0 2-.9 2-2V5c0-1.1-.9-2-2-2zM9 17H7v-7h2v7zm4 0h-2V7h2v10zm4 0h-2v-4h2v4z\"/>\n",
              "    </g>\n",
              "</svg>\n",
              "      </button>\n",
              "\n",
              "<style>\n",
              "  .colab-df-quickchart {\n",
              "      --bg-color: #E8F0FE;\n",
              "      --fill-color: #1967D2;\n",
              "      --hover-bg-color: #E2EBFA;\n",
              "      --hover-fill-color: #174EA6;\n",
              "      --disabled-fill-color: #AAA;\n",
              "      --disabled-bg-color: #DDD;\n",
              "  }\n",
              "\n",
              "  [theme=dark] .colab-df-quickchart {\n",
              "      --bg-color: #3B4455;\n",
              "      --fill-color: #D2E3FC;\n",
              "      --hover-bg-color: #434B5C;\n",
              "      --hover-fill-color: #FFFFFF;\n",
              "      --disabled-bg-color: #3B4455;\n",
              "      --disabled-fill-color: #666;\n",
              "  }\n",
              "\n",
              "  .colab-df-quickchart {\n",
              "    background-color: var(--bg-color);\n",
              "    border: none;\n",
              "    border-radius: 50%;\n",
              "    cursor: pointer;\n",
              "    display: none;\n",
              "    fill: var(--fill-color);\n",
              "    height: 32px;\n",
              "    padding: 0;\n",
              "    width: 32px;\n",
              "  }\n",
              "\n",
              "  .colab-df-quickchart:hover {\n",
              "    background-color: var(--hover-bg-color);\n",
              "    box-shadow: 0 1px 2px rgba(60, 64, 67, 0.3), 0 1px 3px 1px rgba(60, 64, 67, 0.15);\n",
              "    fill: var(--button-hover-fill-color);\n",
              "  }\n",
              "\n",
              "  .colab-df-quickchart-complete:disabled,\n",
              "  .colab-df-quickchart-complete:disabled:hover {\n",
              "    background-color: var(--disabled-bg-color);\n",
              "    fill: var(--disabled-fill-color);\n",
              "    box-shadow: none;\n",
              "  }\n",
              "\n",
              "  .colab-df-spinner {\n",
              "    border: 2px solid var(--fill-color);\n",
              "    border-color: transparent;\n",
              "    border-bottom-color: var(--fill-color);\n",
              "    animation:\n",
              "      spin 1s steps(1) infinite;\n",
              "  }\n",
              "\n",
              "  @keyframes spin {\n",
              "    0% {\n",
              "      border-color: transparent;\n",
              "      border-bottom-color: var(--fill-color);\n",
              "      border-left-color: var(--fill-color);\n",
              "    }\n",
              "    20% {\n",
              "      border-color: transparent;\n",
              "      border-left-color: var(--fill-color);\n",
              "      border-top-color: var(--fill-color);\n",
              "    }\n",
              "    30% {\n",
              "      border-color: transparent;\n",
              "      border-left-color: var(--fill-color);\n",
              "      border-top-color: var(--fill-color);\n",
              "      border-right-color: var(--fill-color);\n",
              "    }\n",
              "    40% {\n",
              "      border-color: transparent;\n",
              "      border-right-color: var(--fill-color);\n",
              "      border-top-color: var(--fill-color);\n",
              "    }\n",
              "    60% {\n",
              "      border-color: transparent;\n",
              "      border-right-color: var(--fill-color);\n",
              "    }\n",
              "    80% {\n",
              "      border-color: transparent;\n",
              "      border-right-color: var(--fill-color);\n",
              "      border-bottom-color: var(--fill-color);\n",
              "    }\n",
              "    90% {\n",
              "      border-color: transparent;\n",
              "      border-bottom-color: var(--fill-color);\n",
              "    }\n",
              "  }\n",
              "</style>\n",
              "\n",
              "      <script>\n",
              "        async function quickchart(key) {\n",
              "          const quickchartButtonEl =\n",
              "            document.querySelector('#' + key + ' button');\n",
              "          quickchartButtonEl.disabled = true;  // To prevent multiple clicks.\n",
              "          quickchartButtonEl.classList.add('colab-df-spinner');\n",
              "          try {\n",
              "            const charts = await google.colab.kernel.invokeFunction(\n",
              "                'suggestCharts', [key], {});\n",
              "          } catch (error) {\n",
              "            console.error('Error during call to suggestCharts:', error);\n",
              "          }\n",
              "          quickchartButtonEl.classList.remove('colab-df-spinner');\n",
              "          quickchartButtonEl.classList.add('colab-df-quickchart-complete');\n",
              "        }\n",
              "        (() => {\n",
              "          let quickchartButtonEl =\n",
              "            document.querySelector('#df-e103d467-c25c-47a9-9b01-cfd03448067f button');\n",
              "          quickchartButtonEl.style.display =\n",
              "            google.colab.kernel.accessAllowed ? 'block' : 'none';\n",
              "        })();\n",
              "      </script>\n",
              "    </div>\n",
              "\n",
              "  <div id=\"id_3fc98c60-b361-4bcc-9816-d7d091afb11f\">\n",
              "    <style>\n",
              "      .colab-df-generate {\n",
              "        background-color: #E8F0FE;\n",
              "        border: none;\n",
              "        border-radius: 50%;\n",
              "        cursor: pointer;\n",
              "        display: none;\n",
              "        fill: #1967D2;\n",
              "        height: 32px;\n",
              "        padding: 0 0 0 0;\n",
              "        width: 32px;\n",
              "      }\n",
              "\n",
              "      .colab-df-generate:hover {\n",
              "        background-color: #E2EBFA;\n",
              "        box-shadow: 0px 1px 2px rgba(60, 64, 67, 0.3), 0px 1px 3px 1px rgba(60, 64, 67, 0.15);\n",
              "        fill: #174EA6;\n",
              "      }\n",
              "\n",
              "      [theme=dark] .colab-df-generate {\n",
              "        background-color: #3B4455;\n",
              "        fill: #D2E3FC;\n",
              "      }\n",
              "\n",
              "      [theme=dark] .colab-df-generate:hover {\n",
              "        background-color: #434B5C;\n",
              "        box-shadow: 0px 1px 3px 1px rgba(0, 0, 0, 0.15);\n",
              "        filter: drop-shadow(0px 1px 2px rgba(0, 0, 0, 0.3));\n",
              "        fill: #FFFFFF;\n",
              "      }\n",
              "    </style>\n",
              "    <button class=\"colab-df-generate\" onclick=\"generateWithVariable('df')\"\n",
              "            title=\"Generate code using this dataframe.\"\n",
              "            style=\"display:none;\">\n",
              "\n",
              "  <svg xmlns=\"http://www.w3.org/2000/svg\" height=\"24px\"viewBox=\"0 0 24 24\"\n",
              "       width=\"24px\">\n",
              "    <path d=\"M7,19H8.4L18.45,9,17,7.55,7,17.6ZM5,21V16.75L18.45,3.32a2,2,0,0,1,2.83,0l1.4,1.43a1.91,1.91,0,0,1,.58,1.4,1.91,1.91,0,0,1-.58,1.4L9.25,21ZM18.45,9,17,7.55Zm-12,3A5.31,5.31,0,0,0,4.9,8.1,5.31,5.31,0,0,0,1,6.5,5.31,5.31,0,0,0,4.9,4.9,5.31,5.31,0,0,0,6.5,1,5.31,5.31,0,0,0,8.1,4.9,5.31,5.31,0,0,0,12,6.5,5.46,5.46,0,0,0,6.5,12Z\"/>\n",
              "  </svg>\n",
              "    </button>\n",
              "    <script>\n",
              "      (() => {\n",
              "      const buttonEl =\n",
              "        document.querySelector('#id_3fc98c60-b361-4bcc-9816-d7d091afb11f button.colab-df-generate');\n",
              "      buttonEl.style.display =\n",
              "        google.colab.kernel.accessAllowed ? 'block' : 'none';\n",
              "\n",
              "      buttonEl.onclick = () => {\n",
              "        google.colab.notebook.generateWithVariable('df');\n",
              "      }\n",
              "      })();\n",
              "    </script>\n",
              "  </div>\n",
              "\n",
              "    </div>\n",
              "  </div>\n"
            ],
            "text/plain": [
              "      Name  Subject  Score    Grade\n",
              "0    Alice     Math     88        A\n",
              "1      Bob  Science     67  Pending\n",
              "2  Charlie  English     92       A+\n",
              "3    David     Math     74        B\n",
              "4      Eva  Science     59  Pending\n",
              "5    Frank  English     81        A"
            ]
          },
          "execution_count": 31,
          "metadata": {},
          "output_type": "execute_result"
        }
      ],
      "source": [
        "import pandas as pd\n",
        "\n",
        "data = {\n",
        "    \"Name\": [\"Alice\", \"Bob\", \"Charlie\", \"David\", \"Eva\", \"Frank\"],\n",
        "    \"Subject\": [\"Math\", \"Science\", \"English\", \"Math\", \"Science\", \"English\"],\n",
        "    \"Score\": [88, 67, 92, 74, 59, 81],\n",
        "    \"Grade\": [\"A\", np.nan, \"A+\", \"B\", np.nan, \"A\"]\n",
        "}\n",
        "df = pd.DataFrame(data)\n",
        "\n",
        "# replacing empty values in Grade column with \"Pending\"\n",
        "df.replace(np.nan, \"Pending\", inplace=True)\n",
        "df"
      ]
    },
    {
      "cell_type": "code",
      "execution_count": null,
      "id": "05ipSYUJ3Ith",
      "metadata": {
        "colab": {
          "base_uri": "https://localhost:8080/",
          "height": 143
        },
        "id": "05ipSYUJ3Ith",
        "outputId": "9faf3abf-949e-4407-fb51-f90c22af143c"
      },
      "outputs": [
        {
          "data": {
            "application/vnd.google.colaboratory.intrinsic+json": {
              "summary": "{\n  \"name\": \"df[df['Score'] > 75]\",\n  \"rows\": 3,\n  \"fields\": [\n    {\n      \"column\": \"Name\",\n      \"properties\": {\n        \"dtype\": \"string\",\n        \"num_unique_values\": 3,\n        \"samples\": [\n          \"Alice\",\n          \"Charlie\",\n          \"Frank\"\n        ],\n        \"semantic_type\": \"\",\n        \"description\": \"\"\n      }\n    },\n    {\n      \"column\": \"Subject\",\n      \"properties\": {\n        \"dtype\": \"string\",\n        \"num_unique_values\": 2,\n        \"samples\": [\n          \"English\",\n          \"Math\"\n        ],\n        \"semantic_type\": \"\",\n        \"description\": \"\"\n      }\n    },\n    {\n      \"column\": \"Score\",\n      \"properties\": {\n        \"dtype\": \"number\",\n        \"std\": 5,\n        \"min\": 81,\n        \"max\": 92,\n        \"num_unique_values\": 3,\n        \"samples\": [\n          88,\n          92\n        ],\n        \"semantic_type\": \"\",\n        \"description\": \"\"\n      }\n    },\n    {\n      \"column\": \"Grade\",\n      \"properties\": {\n        \"dtype\": \"string\",\n        \"num_unique_values\": 2,\n        \"samples\": [\n          \"A+\",\n          \"A\"\n        ],\n        \"semantic_type\": \"\",\n        \"description\": \"\"\n      }\n    }\n  ]\n}",
              "type": "dataframe"
            },
            "text/html": [
              "\n",
              "  <div id=\"df-a60797c8-2931-40f1-b969-1820e26d8a20\" class=\"colab-df-container\">\n",
              "    <div>\n",
              "<style scoped>\n",
              "    .dataframe tbody tr th:only-of-type {\n",
              "        vertical-align: middle;\n",
              "    }\n",
              "\n",
              "    .dataframe tbody tr th {\n",
              "        vertical-align: top;\n",
              "    }\n",
              "\n",
              "    .dataframe thead th {\n",
              "        text-align: right;\n",
              "    }\n",
              "</style>\n",
              "<table border=\"1\" class=\"dataframe\">\n",
              "  <thead>\n",
              "    <tr style=\"text-align: right;\">\n",
              "      <th></th>\n",
              "      <th>Name</th>\n",
              "      <th>Subject</th>\n",
              "      <th>Score</th>\n",
              "      <th>Grade</th>\n",
              "    </tr>\n",
              "  </thead>\n",
              "  <tbody>\n",
              "    <tr>\n",
              "      <th>0</th>\n",
              "      <td>Alice</td>\n",
              "      <td>Math</td>\n",
              "      <td>88</td>\n",
              "      <td>A</td>\n",
              "    </tr>\n",
              "    <tr>\n",
              "      <th>2</th>\n",
              "      <td>Charlie</td>\n",
              "      <td>English</td>\n",
              "      <td>92</td>\n",
              "      <td>A+</td>\n",
              "    </tr>\n",
              "    <tr>\n",
              "      <th>5</th>\n",
              "      <td>Frank</td>\n",
              "      <td>English</td>\n",
              "      <td>81</td>\n",
              "      <td>A</td>\n",
              "    </tr>\n",
              "  </tbody>\n",
              "</table>\n",
              "</div>\n",
              "    <div class=\"colab-df-buttons\">\n",
              "\n",
              "  <div class=\"colab-df-container\">\n",
              "    <button class=\"colab-df-convert\" onclick=\"convertToInteractive('df-a60797c8-2931-40f1-b969-1820e26d8a20')\"\n",
              "            title=\"Convert this dataframe to an interactive table.\"\n",
              "            style=\"display:none;\">\n",
              "\n",
              "  <svg xmlns=\"http://www.w3.org/2000/svg\" height=\"24px\" viewBox=\"0 -960 960 960\">\n",
              "    <path d=\"M120-120v-720h720v720H120Zm60-500h600v-160H180v160Zm220 220h160v-160H400v160Zm0 220h160v-160H400v160ZM180-400h160v-160H180v160Zm440 0h160v-160H620v160ZM180-180h160v-160H180v160Zm440 0h160v-160H620v160Z\"/>\n",
              "  </svg>\n",
              "    </button>\n",
              "\n",
              "  <style>\n",
              "    .colab-df-container {\n",
              "      display:flex;\n",
              "      gap: 12px;\n",
              "    }\n",
              "\n",
              "    .colab-df-convert {\n",
              "      background-color: #E8F0FE;\n",
              "      border: none;\n",
              "      border-radius: 50%;\n",
              "      cursor: pointer;\n",
              "      display: none;\n",
              "      fill: #1967D2;\n",
              "      height: 32px;\n",
              "      padding: 0 0 0 0;\n",
              "      width: 32px;\n",
              "    }\n",
              "\n",
              "    .colab-df-convert:hover {\n",
              "      background-color: #E2EBFA;\n",
              "      box-shadow: 0px 1px 2px rgba(60, 64, 67, 0.3), 0px 1px 3px 1px rgba(60, 64, 67, 0.15);\n",
              "      fill: #174EA6;\n",
              "    }\n",
              "\n",
              "    .colab-df-buttons div {\n",
              "      margin-bottom: 4px;\n",
              "    }\n",
              "\n",
              "    [theme=dark] .colab-df-convert {\n",
              "      background-color: #3B4455;\n",
              "      fill: #D2E3FC;\n",
              "    }\n",
              "\n",
              "    [theme=dark] .colab-df-convert:hover {\n",
              "      background-color: #434B5C;\n",
              "      box-shadow: 0px 1px 3px 1px rgba(0, 0, 0, 0.15);\n",
              "      filter: drop-shadow(0px 1px 2px rgba(0, 0, 0, 0.3));\n",
              "      fill: #FFFFFF;\n",
              "    }\n",
              "  </style>\n",
              "\n",
              "    <script>\n",
              "      const buttonEl =\n",
              "        document.querySelector('#df-a60797c8-2931-40f1-b969-1820e26d8a20 button.colab-df-convert');\n",
              "      buttonEl.style.display =\n",
              "        google.colab.kernel.accessAllowed ? 'block' : 'none';\n",
              "\n",
              "      async function convertToInteractive(key) {\n",
              "        const element = document.querySelector('#df-a60797c8-2931-40f1-b969-1820e26d8a20');\n",
              "        const dataTable =\n",
              "          await google.colab.kernel.invokeFunction('convertToInteractive',\n",
              "                                                    [key], {});\n",
              "        if (!dataTable) return;\n",
              "\n",
              "        const docLinkHtml = 'Like what you see? Visit the ' +\n",
              "          '<a target=\"_blank\" href=https://colab.research.google.com/notebooks/data_table.ipynb>data table notebook</a>'\n",
              "          + ' to learn more about interactive tables.';\n",
              "        element.innerHTML = '';\n",
              "        dataTable['output_type'] = 'display_data';\n",
              "        await google.colab.output.renderOutput(dataTable, element);\n",
              "        const docLink = document.createElement('div');\n",
              "        docLink.innerHTML = docLinkHtml;\n",
              "        element.appendChild(docLink);\n",
              "      }\n",
              "    </script>\n",
              "  </div>\n",
              "\n",
              "\n",
              "    <div id=\"df-1df20ce9-0f19-49a0-a1c6-60afccc258e3\">\n",
              "      <button class=\"colab-df-quickchart\" onclick=\"quickchart('df-1df20ce9-0f19-49a0-a1c6-60afccc258e3')\"\n",
              "                title=\"Suggest charts\"\n",
              "                style=\"display:none;\">\n",
              "\n",
              "<svg xmlns=\"http://www.w3.org/2000/svg\" height=\"24px\"viewBox=\"0 0 24 24\"\n",
              "     width=\"24px\">\n",
              "    <g>\n",
              "        <path d=\"M19 3H5c-1.1 0-2 .9-2 2v14c0 1.1.9 2 2 2h14c1.1 0 2-.9 2-2V5c0-1.1-.9-2-2-2zM9 17H7v-7h2v7zm4 0h-2V7h2v10zm4 0h-2v-4h2v4z\"/>\n",
              "    </g>\n",
              "</svg>\n",
              "      </button>\n",
              "\n",
              "<style>\n",
              "  .colab-df-quickchart {\n",
              "      --bg-color: #E8F0FE;\n",
              "      --fill-color: #1967D2;\n",
              "      --hover-bg-color: #E2EBFA;\n",
              "      --hover-fill-color: #174EA6;\n",
              "      --disabled-fill-color: #AAA;\n",
              "      --disabled-bg-color: #DDD;\n",
              "  }\n",
              "\n",
              "  [theme=dark] .colab-df-quickchart {\n",
              "      --bg-color: #3B4455;\n",
              "      --fill-color: #D2E3FC;\n",
              "      --hover-bg-color: #434B5C;\n",
              "      --hover-fill-color: #FFFFFF;\n",
              "      --disabled-bg-color: #3B4455;\n",
              "      --disabled-fill-color: #666;\n",
              "  }\n",
              "\n",
              "  .colab-df-quickchart {\n",
              "    background-color: var(--bg-color);\n",
              "    border: none;\n",
              "    border-radius: 50%;\n",
              "    cursor: pointer;\n",
              "    display: none;\n",
              "    fill: var(--fill-color);\n",
              "    height: 32px;\n",
              "    padding: 0;\n",
              "    width: 32px;\n",
              "  }\n",
              "\n",
              "  .colab-df-quickchart:hover {\n",
              "    background-color: var(--hover-bg-color);\n",
              "    box-shadow: 0 1px 2px rgba(60, 64, 67, 0.3), 0 1px 3px 1px rgba(60, 64, 67, 0.15);\n",
              "    fill: var(--button-hover-fill-color);\n",
              "  }\n",
              "\n",
              "  .colab-df-quickchart-complete:disabled,\n",
              "  .colab-df-quickchart-complete:disabled:hover {\n",
              "    background-color: var(--disabled-bg-color);\n",
              "    fill: var(--disabled-fill-color);\n",
              "    box-shadow: none;\n",
              "  }\n",
              "\n",
              "  .colab-df-spinner {\n",
              "    border: 2px solid var(--fill-color);\n",
              "    border-color: transparent;\n",
              "    border-bottom-color: var(--fill-color);\n",
              "    animation:\n",
              "      spin 1s steps(1) infinite;\n",
              "  }\n",
              "\n",
              "  @keyframes spin {\n",
              "    0% {\n",
              "      border-color: transparent;\n",
              "      border-bottom-color: var(--fill-color);\n",
              "      border-left-color: var(--fill-color);\n",
              "    }\n",
              "    20% {\n",
              "      border-color: transparent;\n",
              "      border-left-color: var(--fill-color);\n",
              "      border-top-color: var(--fill-color);\n",
              "    }\n",
              "    30% {\n",
              "      border-color: transparent;\n",
              "      border-left-color: var(--fill-color);\n",
              "      border-top-color: var(--fill-color);\n",
              "      border-right-color: var(--fill-color);\n",
              "    }\n",
              "    40% {\n",
              "      border-color: transparent;\n",
              "      border-right-color: var(--fill-color);\n",
              "      border-top-color: var(--fill-color);\n",
              "    }\n",
              "    60% {\n",
              "      border-color: transparent;\n",
              "      border-right-color: var(--fill-color);\n",
              "    }\n",
              "    80% {\n",
              "      border-color: transparent;\n",
              "      border-right-color: var(--fill-color);\n",
              "      border-bottom-color: var(--fill-color);\n",
              "    }\n",
              "    90% {\n",
              "      border-color: transparent;\n",
              "      border-bottom-color: var(--fill-color);\n",
              "    }\n",
              "  }\n",
              "</style>\n",
              "\n",
              "      <script>\n",
              "        async function quickchart(key) {\n",
              "          const quickchartButtonEl =\n",
              "            document.querySelector('#' + key + ' button');\n",
              "          quickchartButtonEl.disabled = true;  // To prevent multiple clicks.\n",
              "          quickchartButtonEl.classList.add('colab-df-spinner');\n",
              "          try {\n",
              "            const charts = await google.colab.kernel.invokeFunction(\n",
              "                'suggestCharts', [key], {});\n",
              "          } catch (error) {\n",
              "            console.error('Error during call to suggestCharts:', error);\n",
              "          }\n",
              "          quickchartButtonEl.classList.remove('colab-df-spinner');\n",
              "          quickchartButtonEl.classList.add('colab-df-quickchart-complete');\n",
              "        }\n",
              "        (() => {\n",
              "          let quickchartButtonEl =\n",
              "            document.querySelector('#df-1df20ce9-0f19-49a0-a1c6-60afccc258e3 button');\n",
              "          quickchartButtonEl.style.display =\n",
              "            google.colab.kernel.accessAllowed ? 'block' : 'none';\n",
              "        })();\n",
              "      </script>\n",
              "    </div>\n",
              "\n",
              "    </div>\n",
              "  </div>\n"
            ],
            "text/plain": [
              "      Name  Subject  Score Grade\n",
              "0    Alice     Math     88     A\n",
              "2  Charlie  English     92    A+\n",
              "5    Frank  English     81     A"
            ]
          },
          "execution_count": 29,
          "metadata": {},
          "output_type": "execute_result"
        }
      ],
      "source": [
        "# filter and display students who scored more than 75\n",
        "df[df['Score'] > 75]"
      ]
    },
    {
      "cell_type": "code",
      "execution_count": null,
      "id": "9ccTJafO6mFR",
      "metadata": {
        "colab": {
          "base_uri": "https://localhost:8080/",
          "height": 209
        },
        "id": "9ccTJafO6mFR",
        "outputId": "c0d071a9-68d2-45e7-ae0c-ffd54508d0ec"
      },
      "outputs": [
        {
          "data": {
            "text/html": [
              "<div>\n",
              "<style scoped>\n",
              "    .dataframe tbody tr th:only-of-type {\n",
              "        vertical-align: middle;\n",
              "    }\n",
              "\n",
              "    .dataframe tbody tr th {\n",
              "        vertical-align: top;\n",
              "    }\n",
              "\n",
              "    .dataframe thead th {\n",
              "        text-align: right;\n",
              "    }\n",
              "</style>\n",
              "<table border=\"1\" class=\"dataframe\">\n",
              "  <thead>\n",
              "    <tr style=\"text-align: right;\">\n",
              "      <th></th>\n",
              "      <th>Score</th>\n",
              "    </tr>\n",
              "    <tr>\n",
              "      <th>Subject</th>\n",
              "      <th></th>\n",
              "    </tr>\n",
              "  </thead>\n",
              "  <tbody>\n",
              "    <tr>\n",
              "      <th>English</th>\n",
              "      <td>86.5</td>\n",
              "    </tr>\n",
              "    <tr>\n",
              "      <th>Math</th>\n",
              "      <td>81.0</td>\n",
              "    </tr>\n",
              "    <tr>\n",
              "      <th>Science</th>\n",
              "      <td>63.0</td>\n",
              "    </tr>\n",
              "  </tbody>\n",
              "</table>\n",
              "</div><br><label><b>dtype:</b> float64</label>"
            ],
            "text/plain": [
              "Subject\n",
              "English    86.5\n",
              "Math       81.0\n",
              "Science    63.0\n",
              "Name: Score, dtype: float64"
            ]
          },
          "execution_count": 30,
          "metadata": {},
          "output_type": "execute_result"
        }
      ],
      "source": [
        "# group data by subject and calculate average score\n",
        "df.groupby('Subject')['Score'].mean()"
      ]
    }
  ],
  "metadata": {
    "colab": {
      "provenance": []
    },
    "kernelspec": {
      "display_name": "project1",
      "language": "python",
      "name": "python3"
    },
    "language_info": {
      "codemirror_mode": {
        "name": "ipython",
        "version": 3
      },
      "file_extension": ".py",
      "mimetype": "text/x-python",
      "name": "python",
      "nbconvert_exporter": "python",
      "pygments_lexer": "ipython3",
      "version": "3.13.0"
    }
  },
  "nbformat": 4,
  "nbformat_minor": 5
}
